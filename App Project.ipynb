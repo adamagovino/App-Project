{
 "cells": [
  {
   "cell_type": "markdown",
   "metadata": {},
   "source": [
    "# Examining App Development Potential Based on Data for Apps Available on both Apple and Android"
   ]
  },
  {
   "cell_type": "markdown",
   "metadata": {},
   "source": [
    "In looking for datasets to dive into, I thought that these two from kaggle proved pretty interesting: https://www.kaggle.com/lava18/google-play-store-apps and https://www.kaggle.com/ramamet4/app-store-apple-data-set-10k-apps. \n",
    "\n",
    "These datasets had information from both google play and the app store regarding categories, ratings, genres, and pricing for all of the apps on each store.  If an app-making company was so inclined, it could use this information to gain market insight into the basis for a successful app.  \n",
    "\n",
    "For this project, I decided to look at that data as if I was working for a company that builds free apps, with a main source of revenue being in-app ads.  This means that revenue would be gained from users engaging with those ads, which means that the more users using that app, the better.  How can I analyze this data to help gain insight into what type of free app would have the highest potential revenue source based on the features given?  Or - will the data reveal that a paid app might be more lucrative? Let's extract some info from this data and see what trends can be discovered! "
   ]
  },
  {
   "cell_type": "markdown",
   "metadata": {},
   "source": [
    "### Toggle the Raw Code On/Off If You'd Like"
   ]
  },
  {
   "cell_type": "code",
   "execution_count": 154,
   "metadata": {},
   "outputs": [
    {
     "data": {
      "text/html": [
       "<script>\n",
       "code_show=true; \n",
       "function code_toggle() {\n",
       " if (code_show){\n",
       " $('div.input').hide();\n",
       " } else {\n",
       " $('div.input').show();\n",
       " }\n",
       " code_show = !code_show\n",
       "} \n",
       "$( document ).ready(code_toggle);\n",
       "</script>\n",
       "<form action=\"javascript:code_toggle()\"><input type=\"submit\" value=\"Click here to toggle on/off the raw code.\"></form>"
      ],
      "text/plain": [
       "<IPython.core.display.HTML object>"
      ]
     },
     "execution_count": 154,
     "metadata": {},
     "output_type": "execute_result"
    }
   ],
   "source": [
    "from IPython.display import HTML\n",
    "\n",
    "HTML('''<script>\n",
    "code_show=true; \n",
    "function code_toggle() {\n",
    " if (code_show){\n",
    " $('div.input').hide();\n",
    " } else {\n",
    " $('div.input').show();\n",
    " }\n",
    " code_show = !code_show\n",
    "} \n",
    "$( document ).ready(code_toggle);\n",
    "</script>\n",
    "<form action=\"javascript:code_toggle()\"><input type=\"submit\" value=\"Click here to toggle on/off the raw code.\"></form>''')"
   ]
  },
  {
   "cell_type": "markdown",
   "metadata": {},
   "source": [
    "# Exploring the Initial Data"
   ]
  },
  {
   "cell_type": "markdown",
   "metadata": {},
   "source": [
    "Let's see what we have at first glance. "
   ]
  },
  {
   "cell_type": "code",
   "execution_count": 111,
   "metadata": {},
   "outputs": [],
   "source": [
    "import pandas as pd\n",
    "import numpy as np\n",
    "from pandas import DataFrame\n",
    "\n",
    "import warnings\n",
    "warnings.filterwarnings('ignore')"
   ]
  },
  {
   "cell_type": "code",
   "execution_count": 112,
   "metadata": {},
   "outputs": [],
   "source": [
    "#Two files:\n",
    "\n",
    "andr = pd.read_csv('/Users/atrain31/Desktop/Data/dq1/googleplaystore.csv')\n",
    "apple = pd.read_csv('/Users/atrain31/Desktop/Data/dq1/AppleStore.csv')"
   ]
  },
  {
   "cell_type": "markdown",
   "metadata": {},
   "source": [
    "Google Data:"
   ]
  },
  {
   "cell_type": "code",
   "execution_count": 113,
   "metadata": {},
   "outputs": [
    {
     "data": {
      "text/html": [
       "<div>\n",
       "<style scoped>\n",
       "    .dataframe tbody tr th:only-of-type {\n",
       "        vertical-align: middle;\n",
       "    }\n",
       "\n",
       "    .dataframe tbody tr th {\n",
       "        vertical-align: top;\n",
       "    }\n",
       "\n",
       "    .dataframe thead th {\n",
       "        text-align: right;\n",
       "    }\n",
       "</style>\n",
       "<table border=\"1\" class=\"dataframe\">\n",
       "  <thead>\n",
       "    <tr style=\"text-align: right;\">\n",
       "      <th></th>\n",
       "      <th>App</th>\n",
       "      <th>Category</th>\n",
       "      <th>Rating</th>\n",
       "      <th>Reviews</th>\n",
       "      <th>Size</th>\n",
       "      <th>Installs</th>\n",
       "      <th>Type</th>\n",
       "      <th>Price</th>\n",
       "      <th>Content Rating</th>\n",
       "      <th>Genres</th>\n",
       "      <th>Last Updated</th>\n",
       "      <th>Current Ver</th>\n",
       "      <th>Android Ver</th>\n",
       "    </tr>\n",
       "  </thead>\n",
       "  <tbody>\n",
       "    <tr>\n",
       "      <th>0</th>\n",
       "      <td>Photo Editor &amp; Candy Camera &amp; Grid &amp; ScrapBook</td>\n",
       "      <td>ART_AND_DESIGN</td>\n",
       "      <td>4.1</td>\n",
       "      <td>159</td>\n",
       "      <td>19M</td>\n",
       "      <td>10,000+</td>\n",
       "      <td>Free</td>\n",
       "      <td>0</td>\n",
       "      <td>Everyone</td>\n",
       "      <td>Art &amp; Design</td>\n",
       "      <td>January 7, 2018</td>\n",
       "      <td>1.0.0</td>\n",
       "      <td>4.0.3 and up</td>\n",
       "    </tr>\n",
       "    <tr>\n",
       "      <th>1</th>\n",
       "      <td>Coloring book moana</td>\n",
       "      <td>ART_AND_DESIGN</td>\n",
       "      <td>3.9</td>\n",
       "      <td>967</td>\n",
       "      <td>14M</td>\n",
       "      <td>500,000+</td>\n",
       "      <td>Free</td>\n",
       "      <td>0</td>\n",
       "      <td>Everyone</td>\n",
       "      <td>Art &amp; Design;Pretend Play</td>\n",
       "      <td>January 15, 2018</td>\n",
       "      <td>2.0.0</td>\n",
       "      <td>4.0.3 and up</td>\n",
       "    </tr>\n",
       "    <tr>\n",
       "      <th>2</th>\n",
       "      <td>U Launcher Lite – FREE Live Cool Themes, Hide ...</td>\n",
       "      <td>ART_AND_DESIGN</td>\n",
       "      <td>4.7</td>\n",
       "      <td>87510</td>\n",
       "      <td>8.7M</td>\n",
       "      <td>5,000,000+</td>\n",
       "      <td>Free</td>\n",
       "      <td>0</td>\n",
       "      <td>Everyone</td>\n",
       "      <td>Art &amp; Design</td>\n",
       "      <td>August 1, 2018</td>\n",
       "      <td>1.2.4</td>\n",
       "      <td>4.0.3 and up</td>\n",
       "    </tr>\n",
       "    <tr>\n",
       "      <th>3</th>\n",
       "      <td>Sketch - Draw &amp; Paint</td>\n",
       "      <td>ART_AND_DESIGN</td>\n",
       "      <td>4.5</td>\n",
       "      <td>215644</td>\n",
       "      <td>25M</td>\n",
       "      <td>50,000,000+</td>\n",
       "      <td>Free</td>\n",
       "      <td>0</td>\n",
       "      <td>Teen</td>\n",
       "      <td>Art &amp; Design</td>\n",
       "      <td>June 8, 2018</td>\n",
       "      <td>Varies with device</td>\n",
       "      <td>4.2 and up</td>\n",
       "    </tr>\n",
       "    <tr>\n",
       "      <th>4</th>\n",
       "      <td>Pixel Draw - Number Art Coloring Book</td>\n",
       "      <td>ART_AND_DESIGN</td>\n",
       "      <td>4.3</td>\n",
       "      <td>967</td>\n",
       "      <td>2.8M</td>\n",
       "      <td>100,000+</td>\n",
       "      <td>Free</td>\n",
       "      <td>0</td>\n",
       "      <td>Everyone</td>\n",
       "      <td>Art &amp; Design;Creativity</td>\n",
       "      <td>June 20, 2018</td>\n",
       "      <td>1.1</td>\n",
       "      <td>4.4 and up</td>\n",
       "    </tr>\n",
       "  </tbody>\n",
       "</table>\n",
       "</div>"
      ],
      "text/plain": [
       "                                                 App        Category  Rating  \\\n",
       "0     Photo Editor & Candy Camera & Grid & ScrapBook  ART_AND_DESIGN     4.1   \n",
       "1                                Coloring book moana  ART_AND_DESIGN     3.9   \n",
       "2  U Launcher Lite – FREE Live Cool Themes, Hide ...  ART_AND_DESIGN     4.7   \n",
       "3                              Sketch - Draw & Paint  ART_AND_DESIGN     4.5   \n",
       "4              Pixel Draw - Number Art Coloring Book  ART_AND_DESIGN     4.3   \n",
       "\n",
       "  Reviews  Size     Installs  Type Price Content Rating  \\\n",
       "0     159   19M      10,000+  Free     0       Everyone   \n",
       "1     967   14M     500,000+  Free     0       Everyone   \n",
       "2   87510  8.7M   5,000,000+  Free     0       Everyone   \n",
       "3  215644   25M  50,000,000+  Free     0           Teen   \n",
       "4     967  2.8M     100,000+  Free     0       Everyone   \n",
       "\n",
       "                      Genres      Last Updated         Current Ver  \\\n",
       "0               Art & Design   January 7, 2018               1.0.0   \n",
       "1  Art & Design;Pretend Play  January 15, 2018               2.0.0   \n",
       "2               Art & Design    August 1, 2018               1.2.4   \n",
       "3               Art & Design      June 8, 2018  Varies with device   \n",
       "4    Art & Design;Creativity     June 20, 2018                 1.1   \n",
       "\n",
       "    Android Ver  \n",
       "0  4.0.3 and up  \n",
       "1  4.0.3 and up  \n",
       "2  4.0.3 and up  \n",
       "3    4.2 and up  \n",
       "4    4.4 and up  "
      ]
     },
     "execution_count": 113,
     "metadata": {},
     "output_type": "execute_result"
    }
   ],
   "source": [
    "andr.head()"
   ]
  },
  {
   "cell_type": "markdown",
   "metadata": {},
   "source": [
    "Apple Data:"
   ]
  },
  {
   "cell_type": "code",
   "execution_count": 114,
   "metadata": {
    "scrolled": true
   },
   "outputs": [
    {
     "data": {
      "text/html": [
       "<div>\n",
       "<style scoped>\n",
       "    .dataframe tbody tr th:only-of-type {\n",
       "        vertical-align: middle;\n",
       "    }\n",
       "\n",
       "    .dataframe tbody tr th {\n",
       "        vertical-align: top;\n",
       "    }\n",
       "\n",
       "    .dataframe thead th {\n",
       "        text-align: right;\n",
       "    }\n",
       "</style>\n",
       "<table border=\"1\" class=\"dataframe\">\n",
       "  <thead>\n",
       "    <tr style=\"text-align: right;\">\n",
       "      <th></th>\n",
       "      <th>id</th>\n",
       "      <th>track_name</th>\n",
       "      <th>size_bytes</th>\n",
       "      <th>currency</th>\n",
       "      <th>price</th>\n",
       "      <th>rating_count_tot</th>\n",
       "      <th>rating_count_ver</th>\n",
       "      <th>user_rating</th>\n",
       "      <th>user_rating_ver</th>\n",
       "      <th>ver</th>\n",
       "      <th>cont_rating</th>\n",
       "      <th>prime_genre</th>\n",
       "      <th>sup_devices.num</th>\n",
       "      <th>ipadSc_urls.num</th>\n",
       "      <th>lang.num</th>\n",
       "      <th>vpp_lic</th>\n",
       "    </tr>\n",
       "  </thead>\n",
       "  <tbody>\n",
       "    <tr>\n",
       "      <th>0</th>\n",
       "      <td>284882215</td>\n",
       "      <td>Facebook</td>\n",
       "      <td>389879808</td>\n",
       "      <td>USD</td>\n",
       "      <td>0.0</td>\n",
       "      <td>2974676</td>\n",
       "      <td>212</td>\n",
       "      <td>3.5</td>\n",
       "      <td>3.5</td>\n",
       "      <td>95.0</td>\n",
       "      <td>4+</td>\n",
       "      <td>Social Networking</td>\n",
       "      <td>37</td>\n",
       "      <td>1</td>\n",
       "      <td>29</td>\n",
       "      <td>1</td>\n",
       "    </tr>\n",
       "    <tr>\n",
       "      <th>1</th>\n",
       "      <td>389801252</td>\n",
       "      <td>Instagram</td>\n",
       "      <td>113954816</td>\n",
       "      <td>USD</td>\n",
       "      <td>0.0</td>\n",
       "      <td>2161558</td>\n",
       "      <td>1289</td>\n",
       "      <td>4.5</td>\n",
       "      <td>4.0</td>\n",
       "      <td>10.23</td>\n",
       "      <td>12+</td>\n",
       "      <td>Photo &amp; Video</td>\n",
       "      <td>37</td>\n",
       "      <td>0</td>\n",
       "      <td>29</td>\n",
       "      <td>1</td>\n",
       "    </tr>\n",
       "    <tr>\n",
       "      <th>2</th>\n",
       "      <td>529479190</td>\n",
       "      <td>Clash of Clans</td>\n",
       "      <td>116476928</td>\n",
       "      <td>USD</td>\n",
       "      <td>0.0</td>\n",
       "      <td>2130805</td>\n",
       "      <td>579</td>\n",
       "      <td>4.5</td>\n",
       "      <td>4.5</td>\n",
       "      <td>9.24.12</td>\n",
       "      <td>9+</td>\n",
       "      <td>Games</td>\n",
       "      <td>38</td>\n",
       "      <td>5</td>\n",
       "      <td>18</td>\n",
       "      <td>1</td>\n",
       "    </tr>\n",
       "    <tr>\n",
       "      <th>3</th>\n",
       "      <td>420009108</td>\n",
       "      <td>Temple Run</td>\n",
       "      <td>65921024</td>\n",
       "      <td>USD</td>\n",
       "      <td>0.0</td>\n",
       "      <td>1724546</td>\n",
       "      <td>3842</td>\n",
       "      <td>4.5</td>\n",
       "      <td>4.0</td>\n",
       "      <td>1.6.2</td>\n",
       "      <td>9+</td>\n",
       "      <td>Games</td>\n",
       "      <td>40</td>\n",
       "      <td>5</td>\n",
       "      <td>1</td>\n",
       "      <td>1</td>\n",
       "    </tr>\n",
       "    <tr>\n",
       "      <th>4</th>\n",
       "      <td>284035177</td>\n",
       "      <td>Pandora - Music &amp; Radio</td>\n",
       "      <td>130242560</td>\n",
       "      <td>USD</td>\n",
       "      <td>0.0</td>\n",
       "      <td>1126879</td>\n",
       "      <td>3594</td>\n",
       "      <td>4.0</td>\n",
       "      <td>4.5</td>\n",
       "      <td>8.4.1</td>\n",
       "      <td>12+</td>\n",
       "      <td>Music</td>\n",
       "      <td>37</td>\n",
       "      <td>4</td>\n",
       "      <td>1</td>\n",
       "      <td>1</td>\n",
       "    </tr>\n",
       "  </tbody>\n",
       "</table>\n",
       "</div>"
      ],
      "text/plain": [
       "          id               track_name  size_bytes currency  price  \\\n",
       "0  284882215                 Facebook   389879808      USD    0.0   \n",
       "1  389801252                Instagram   113954816      USD    0.0   \n",
       "2  529479190           Clash of Clans   116476928      USD    0.0   \n",
       "3  420009108               Temple Run    65921024      USD    0.0   \n",
       "4  284035177  Pandora - Music & Radio   130242560      USD    0.0   \n",
       "\n",
       "   rating_count_tot  rating_count_ver  user_rating  user_rating_ver      ver  \\\n",
       "0           2974676               212          3.5              3.5     95.0   \n",
       "1           2161558              1289          4.5              4.0    10.23   \n",
       "2           2130805               579          4.5              4.5  9.24.12   \n",
       "3           1724546              3842          4.5              4.0    1.6.2   \n",
       "4           1126879              3594          4.0              4.5    8.4.1   \n",
       "\n",
       "  cont_rating        prime_genre  sup_devices.num  ipadSc_urls.num  lang.num  \\\n",
       "0          4+  Social Networking               37                1        29   \n",
       "1         12+      Photo & Video               37                0        29   \n",
       "2          9+              Games               38                5        18   \n",
       "3          9+              Games               40                5         1   \n",
       "4         12+              Music               37                4         1   \n",
       "\n",
       "   vpp_lic  \n",
       "0        1  \n",
       "1        1  \n",
       "2        1  \n",
       "3        1  \n",
       "4        1  "
      ]
     },
     "execution_count": 114,
     "metadata": {},
     "output_type": "execute_result"
    }
   ],
   "source": [
    "apple.head()"
   ]
  },
  {
   "cell_type": "markdown",
   "metadata": {},
   "source": [
    "Google and Apple data type:"
   ]
  },
  {
   "cell_type": "code",
   "execution_count": 115,
   "metadata": {},
   "outputs": [
    {
     "name": "stdout",
     "output_type": "stream",
     "text": [
      "<class 'pandas.core.frame.DataFrame'>\n",
      "RangeIndex: 10841 entries, 0 to 10840\n",
      "Data columns (total 13 columns):\n",
      "App               10841 non-null object\n",
      "Category          10841 non-null object\n",
      "Rating            9367 non-null float64\n",
      "Reviews           10841 non-null object\n",
      "Size              10841 non-null object\n",
      "Installs          10841 non-null object\n",
      "Type              10840 non-null object\n",
      "Price             10841 non-null object\n",
      "Content Rating    10840 non-null object\n",
      "Genres            10841 non-null object\n",
      "Last Updated      10841 non-null object\n",
      "Current Ver       10833 non-null object\n",
      "Android Ver       10838 non-null object\n",
      "dtypes: float64(1), object(12)\n",
      "memory usage: 1.1+ MB\n",
      "<class 'pandas.core.frame.DataFrame'>\n",
      "RangeIndex: 7197 entries, 0 to 7196\n",
      "Data columns (total 16 columns):\n",
      "id                  7197 non-null int64\n",
      "track_name          7197 non-null object\n",
      "size_bytes          7197 non-null int64\n",
      "currency            7197 non-null object\n",
      "price               7197 non-null float64\n",
      "rating_count_tot    7197 non-null int64\n",
      "rating_count_ver    7197 non-null int64\n",
      "user_rating         7197 non-null float64\n",
      "user_rating_ver     7197 non-null float64\n",
      "ver                 7197 non-null object\n",
      "cont_rating         7197 non-null object\n",
      "prime_genre         7197 non-null object\n",
      "sup_devices.num     7197 non-null int64\n",
      "ipadSc_urls.num     7197 non-null int64\n",
      "lang.num            7197 non-null int64\n",
      "vpp_lic             7197 non-null int64\n",
      "dtypes: float64(3), int64(8), object(5)\n",
      "memory usage: 899.7+ KB\n"
     ]
    },
    {
     "data": {
      "text/plain": [
       "(None, None)"
      ]
     },
     "execution_count": 115,
     "metadata": {},
     "output_type": "execute_result"
    }
   ],
   "source": [
    "andr.info(), apple.info()"
   ]
  },
  {
   "cell_type": "markdown",
   "metadata": {},
   "source": [
    "So there are some interesting possiblities in this data.  Listed here are the column names (Google play, followed by the Apple app store) for each dataframe that I feel can be correlated and grouped together for analysis, followed by why they may be useful: \n",
    "\n",
    "App/track_name - basic identifiers for each column (the apple 'id' doesn't seem to mean anything here)\n",
    "\n",
    "Category/prime_genre - category of each app ('Genres' seems like it would be too specific and therefore give a cloudier picture of the genres).  This would most likely be the main determinant of what type of app to create - which categories are the most popular?  Which have future potential? \n",
    "\n",
    "Rating/user_rating - do higher ratings equal more downloads or possibly higher price? \n",
    "\n",
    "Reviews/rating_count_tot  (or Installs??)- see above\n",
    "\n",
    "(Type & Price)/price - how does pricing affect downloads and ratings?\n",
    "\n",
    "Content Rating/cont_rating"
   ]
  },
  {
   "cell_type": "markdown",
   "metadata": {},
   "source": [
    "# Cleaning the Data & Initial Analysis"
   ]
  },
  {
   "cell_type": "markdown",
   "metadata": {},
   "source": [
    "Before we start, some of the kaggle comments mentioned a line of data (#10472) that was incomplete.  I'm going to verify that the data isn't useful and drop that from the analysis."
   ]
  },
  {
   "cell_type": "code",
   "execution_count": 116,
   "metadata": {},
   "outputs": [
    {
     "name": "stdout",
     "output_type": "stream",
     "text": [
      "                                           App Category  Rating Reviews  \\\n",
      "10472  Life Made WI-Fi Touchscreen Photo Frame      1.9    19.0    3.0M   \n",
      "\n",
      "         Size Installs Type     Price Content Rating             Genres  \\\n",
      "10472  1,000+     Free    0  Everyone            NaN  February 11, 2018   \n",
      "\n",
      "      Last Updated Current Ver Android Ver  \n",
      "10472       1.0.19  4.0 and up         NaN  \n"
     ]
    }
   ],
   "source": [
    "print(andr.loc[[10472]])\n",
    "play = andr.drop(10472)"
   ]
  },
  {
   "cell_type": "markdown",
   "metadata": {},
   "source": [
    "## Duplicate and English Apps "
   ]
  },
  {
   "cell_type": "markdown",
   "metadata": {},
   "source": [
    "As shown above, we have 10,841 apps listed on the google store and 7197 listed on the app store. Let's see how many of these apps are actually unique:"
   ]
  },
  {
   "cell_type": "code",
   "execution_count": 117,
   "metadata": {},
   "outputs": [
    {
     "name": "stdout",
     "output_type": "stream",
     "text": [
      "Unique Google Play Apps:\n",
      "9659\n"
     ]
    }
   ],
   "source": [
    "print(\"Unique Google Play Apps:\")\n",
    "print(play['App'].nunique())"
   ]
  },
  {
   "cell_type": "code",
   "execution_count": 118,
   "metadata": {},
   "outputs": [
    {
     "name": "stdout",
     "output_type": "stream",
     "text": [
      "Unique App Store Apps:\n",
      "7195\n"
     ]
    }
   ],
   "source": [
    "print(\"Unique App Store Apps:\")\n",
    "print(apple['track_name'].nunique())"
   ]
  },
  {
   "cell_type": "markdown",
   "metadata": {},
   "source": [
    "Looks the like google play has 1181 duplicate app names, while the app store has two.  Let's create a dictionary to make sure that we have only one of each app in our data; we'll base which one to keep on which one has the most reviews. "
   ]
  },
  {
   "cell_type": "code",
   "execution_count": 119,
   "metadata": {},
   "outputs": [
    {
     "name": "stdout",
     "output_type": "stream",
     "text": [
      "All duplicates have been removed\n"
     ]
    }
   ],
   "source": [
    "rev_max_play = {}\n",
    "\n",
    "for i,row in play.iterrows():\n",
    "    app = row['App']\n",
    "    num_rev = float(row['Reviews'])\n",
    "    \n",
    "    if app in rev_max_play and rev_max_play[app] < num_rev:\n",
    "        rev_max_play[app] = num_rev\n",
    "        \n",
    "    elif app not in rev_max_play:\n",
    "        rev_max_play[app] = num_rev\n",
    "        \n",
    "\n",
    "rev_max_apple = {}\n",
    "\n",
    "for i,row in apple.iterrows():\n",
    "    appl = row['track_name']\n",
    "    num_revi = float(row['rating_count_tot'])\n",
    "    \n",
    "    if app in rev_max_apple and rev_max_apple[appl] < num_revi:\n",
    "        rev_max_apple[appl] = num_revi\n",
    "        \n",
    "    elif app not in rev_max_apple:\n",
    "        rev_max_apple[appl] = num_revi\n",
    "        \n",
    "play_clean = []\n",
    "already_added = []\n",
    "\n",
    "for i,app in play.iterrows():\n",
    "    name = app['App']\n",
    "    n_reviews = float(app['Reviews'])\n",
    "    \n",
    "    if (rev_max_play[name] == n_reviews) and (name not in already_added):\n",
    "        play_clean.append(app)\n",
    "        already_added.append(name) \n",
    "        \n",
    "apple_clean = []\n",
    "already_added2 = []\n",
    "\n",
    "for i,app in apple.iterrows():\n",
    "    name = app['track_name']\n",
    "    n_reviews = float(app['rating_count_tot'])\n",
    "    \n",
    "    if (rev_max_apple[name] == n_reviews) and (name not in already_added2):\n",
    "        apple_clean.append(app)\n",
    "        already_added2.append(name) \n",
    "\n",
    "if (len(play_clean)==(play['App'].nunique())) & (len(apple_clean)==(apple['track_name'].nunique())):\n",
    "    print(\"All duplicates have been removed\")"
   ]
  },
  {
   "cell_type": "code",
   "execution_count": 120,
   "metadata": {},
   "outputs": [],
   "source": [
    "play_clean_df = pd.DataFrame(play_clean)\n",
    "apple_clean_df = pd.DataFrame(apple_clean)\n",
    "\n",
    "apple_clean_df.to_csv('/Users/atrain31/Desktop/Data/dq1/apple_clean.csv')\n",
    "play_clean_df.to_csv('/Users/atrain31/Desktop/Data/dq1/play_clean.csv')"
   ]
  },
  {
   "cell_type": "markdown",
   "metadata": {},
   "source": [
    "Now we have two lists, play_clean and apple_clean, which have only one of each app in the data.  The dictionaries worked as the cleaned lists are the exact same length as the number of unique values we originally found in the first step above. \n",
    "\n",
    "Further exploring the data, it would most likely be difficult to analyze data from non-english apps.  I'm going to weed those out by creating a function that identifies non-english language apps. "
   ]
  },
  {
   "cell_type": "code",
   "execution_count": 121,
   "metadata": {
    "scrolled": true
   },
   "outputs": [
    {
     "name": "stdout",
     "output_type": "stream",
     "text": [
      "# English Google Apps:\n",
      "9659\n",
      "# English Apple Apps:\n",
      "6153\n"
     ]
    }
   ],
   "source": [
    "def english_app(string):\n",
    "    non_english_count = 0\n",
    "    for character in string:\n",
    "        number = ord(character)\n",
    "        if number > 127:\n",
    "            non_english_count += 1\n",
    "        else:\n",
    "            non_english_count += 0\n",
    "\n",
    "    if non_english_count>2:\n",
    "        return False\n",
    "    else:\n",
    "        return True\n",
    "    \n",
    "play_english = []\n",
    "for app in play_clean:\n",
    "    name = app[1]\n",
    "    if english_app(name):\n",
    "        play_english.append(app)\n",
    "    else:\n",
    "        None\n",
    "\n",
    "apple_english = []\n",
    "for app in apple_clean:\n",
    "    name = app[1]\n",
    "    if english_app(name):\n",
    "        apple_english.append(app)\n",
    "    else:\n",
    "        None\n",
    "        \n",
    "print(\"# English Google Apps:\")\n",
    "print(len(play_english))\n",
    "\n",
    "print(\"# English Apple Apps:\")\n",
    "print(len(apple_english))  "
   ]
  },
  {
   "cell_type": "markdown",
   "metadata": {},
   "source": [
    "We are now down to 9659 apps on google play and 6153 on the app store. \n",
    "\n",
    "Let's see how many of those apps were free - remember,  in the scenario I mentioned in the intro, I'm looking for free apps in an effort to develop an app based on ad revenue.  "
   ]
  },
  {
   "cell_type": "markdown",
   "metadata": {},
   "source": [
    "## Pricing"
   ]
  },
  {
   "cell_type": "markdown",
   "metadata": {},
   "source": [
    "Let's look at the pricing of the available apps.  I'm going to base our pricing on the \"Price\" column rather than the \"Type\" column and go from there (also the app store data does not have a Type column).  Let's see what we have for a range for both datasets:"
   ]
  },
  {
   "cell_type": "code",
   "execution_count": 122,
   "metadata": {},
   "outputs": [
    {
     "name": "stdout",
     "output_type": "stream",
     "text": [
      "Range of Pricing for Google Play Store:\n"
     ]
    },
    {
     "data": {
      "text/plain": [
       "('$0.99', '0')"
      ]
     },
     "execution_count": 122,
     "metadata": {},
     "output_type": "execute_result"
    }
   ],
   "source": [
    "play_english_df = pd.DataFrame(play_english)\n",
    "apple_english_df = pd.DataFrame(apple_english)\n",
    "\n",
    "print('Range of Pricing for Google Play Store:')\n",
    "play_english_df['Price'].min(), play_english_df['Price'].max()"
   ]
  },
  {
   "cell_type": "code",
   "execution_count": 123,
   "metadata": {},
   "outputs": [
    {
     "name": "stdout",
     "output_type": "stream",
     "text": [
      "Range of Pricing for App Store:\n"
     ]
    },
    {
     "data": {
      "text/plain": [
       "(0.0, 299.99)"
      ]
     },
     "execution_count": 123,
     "metadata": {},
     "output_type": "execute_result"
    }
   ],
   "source": [
    "print('Range of Pricing for App Store:')\n",
    "apple_english_df['price'].min(), apple_english_df['price'].max()"
   ]
  },
  {
   "cell_type": "markdown",
   "metadata": {},
   "source": [
    "The Apple range looks good, but the Google range is off.  Let's fix that: "
   ]
  },
  {
   "cell_type": "code",
   "execution_count": 124,
   "metadata": {},
   "outputs": [
    {
     "name": "stdout",
     "output_type": "stream",
     "text": [
      "Corrected Range of Pricing for Google Play Store:\n"
     ]
    },
    {
     "data": {
      "text/plain": [
       "(0.0, 400.0)"
      ]
     },
     "execution_count": 124,
     "metadata": {},
     "output_type": "execute_result"
    }
   ],
   "source": [
    "play_english_df['Price'] = play_english_df['Price'].str.replace('$','')\n",
    "play_english_df['Price'] = pd.to_numeric(play_english_df['Price'])\n",
    "\n",
    "print('Corrected Range of Pricing for Google Play Store:')\n",
    "play_english_df['Price'].min(), play_english_df['Price'].max()"
   ]
  },
  {
   "cell_type": "markdown",
   "metadata": {},
   "source": [
    "Before moving forward, I'd like to take a look at how prevalent paid apps are vs free apps and get an idea of how popular each type is with users. "
   ]
  },
  {
   "cell_type": "code",
   "execution_count": 125,
   "metadata": {},
   "outputs": [
    {
     "name": "stdout",
     "output_type": "stream",
     "text": [
      "Number of Free Google Apps, App Store Apps\n"
     ]
    },
    {
     "data": {
      "text/plain": [
       "(8905, 3201)"
      ]
     },
     "execution_count": 125,
     "metadata": {},
     "output_type": "execute_result"
    }
   ],
   "source": [
    "apple_english_df.to_csv('/Users/atrain31/Desktop/Data/dq1/apple_english.csv')\n",
    "play_english_df.to_csv('/Users/atrain31/Desktop/Data/dq1/play_english_df.csv')\n",
    "\n",
    "play_free = play_english_df[play_english_df['Price']==0.0]\n",
    "apple_free = apple_english_df[apple_english_df['price']==0.0]\n",
    "\n",
    "print(\"Number of Free Google Apps, App Store Apps:\")\n",
    "len(play_free), len(apple_free)"
   ]
  },
  {
   "cell_type": "markdown",
   "metadata": {},
   "source": [
    "There are 9659 total unique English apps in the Play store, 8905 of which are free; 6153 and 3201 in the app store.  I'd like to plug this into Tableau and see what it looks like:"
   ]
  },
  {
   "cell_type": "code",
   "execution_count": 31,
   "metadata": {},
   "outputs": [
    {
     "data": {
      "text/html": [
       "<div class='tableauPlaceholder' id='viz1597409129902' style='position: relative'><noscript><a href='#'><img alt=' ' src='https:&#47;&#47;public.tableau.com&#47;static&#47;images&#47;Go&#47;GooglePlayAppPriceRelativetoNumberofReviewsandAverageRating&#47;Sheet1&#47;1_rss.png' style='border: none' /></a></noscript><object class='tableauViz'  style='display:none;'><param name='host_url' value='https%3A%2F%2Fpublic.tableau.com%2F' /> <param name='embed_code_version' value='3' /> <param name='site_root' value='' /><param name='name' value='GooglePlayAppPriceRelativetoNumberofReviewsandAverageRating&#47;Sheet1' /><param name='tabs' value='no' /><param name='toolbar' value='yes' /><param name='static_image' value='https:&#47;&#47;public.tableau.com&#47;static&#47;images&#47;Go&#47;GooglePlayAppPriceRelativetoNumberofReviewsandAverageRating&#47;Sheet1&#47;1.png' /> <param name='animate_transition' value='yes' /><param name='display_static_image' value='yes' /><param name='display_spinner' value='yes' /><param name='display_overlay' value='yes' /><param name='display_count' value='yes' /><param name='language' value='en' /><param name='filter' value='publish=yes' /></object></div>                <script type='text/javascript'>                    var divElement = document.getElementById('viz1597409129902');                    var vizElement = divElement.getElementsByTagName('object')[0];                    vizElement.style.width='100%';vizElement.style.height=(divElement.offsetWidth*0.75)+'px';                    var scriptElement = document.createElement('script');                    scriptElement.src = 'https://public.tableau.com/javascripts/api/viz_v1.js';                    vizElement.parentNode.insertBefore(scriptElement, vizElement);                </script>\n"
      ],
      "text/plain": [
       "<IPython.core.display.HTML object>"
      ]
     },
     "metadata": {},
     "output_type": "display_data"
    }
   ],
   "source": [
    "%%HTML\n",
    "<div class='tableauPlaceholder' id='viz1597409129902' style='position: relative'><noscript><a href='#'><img alt=' ' src='https:&#47;&#47;public.tableau.com&#47;static&#47;images&#47;Go&#47;GooglePlayAppPriceRelativetoNumberofReviewsandAverageRating&#47;Sheet1&#47;1_rss.png' style='border: none' /></a></noscript><object class='tableauViz'  style='display:none;'><param name='host_url' value='https%3A%2F%2Fpublic.tableau.com%2F' /> <param name='embed_code_version' value='3' /> <param name='site_root' value='' /><param name='name' value='GooglePlayAppPriceRelativetoNumberofReviewsandAverageRating&#47;Sheet1' /><param name='tabs' value='no' /><param name='toolbar' value='yes' /><param name='static_image' value='https:&#47;&#47;public.tableau.com&#47;static&#47;images&#47;Go&#47;GooglePlayAppPriceRelativetoNumberofReviewsandAverageRating&#47;Sheet1&#47;1.png' /> <param name='animate_transition' value='yes' /><param name='display_static_image' value='yes' /><param name='display_spinner' value='yes' /><param name='display_overlay' value='yes' /><param name='display_count' value='yes' /><param name='language' value='en' /><param name='filter' value='publish=yes' /></object></div>                <script type='text/javascript'>                    var divElement = document.getElementById('viz1597409129902');                    var vizElement = divElement.getElementsByTagName('object')[0];                    vizElement.style.width='100%';vizElement.style.height=(divElement.offsetWidth*0.75)+'px';                    var scriptElement = document.createElement('script');                    scriptElement.src = 'https://public.tableau.com/javascripts/api/viz_v1.js';                    vizElement.parentNode.insertBefore(scriptElement, vizElement);                </script>"
   ]
  },
  {
   "cell_type": "markdown",
   "metadata": {},
   "source": [
    "The extreme popularity of ~50 apps totally skewers this graph, making it almost unusable, BUT - one thing we can see is that all of the very popular apps are free apps.  Let's further examine this: "
   ]
  },
  {
   "cell_type": "code",
   "execution_count": 126,
   "metadata": {},
   "outputs": [
    {
     "name": "stdout",
     "output_type": "stream",
     "text": [
      "Number of Paid Google Play Apps with >500,000 Reviews vs Free Play Apps with >500,000 Reviews: \n"
     ]
    },
    {
     "data": {
      "text/plain": [
       "(1, 585)"
      ]
     },
     "execution_count": 126,
     "metadata": {},
     "output_type": "execute_result"
    }
   ],
   "source": [
    "play_paid = play_english_df[play_english_df['Price']>0.0]\n",
    "\n",
    "play_free['Reviews'] = play_free['Reviews'].astype(int)\n",
    "play_paid['Reviews'] = play_paid['Reviews'].astype(int)\n",
    "\n",
    "play_paid_popular = play_paid[play_paid['Reviews']>500000]\n",
    "play_free_popular = play_free[play_free['Reviews']>500000]\n",
    "\n",
    "print(\"Number of Paid Google Play Apps with >500,000 Reviews vs Free Play Apps with >500,000 Reviews: \")\n",
    "len(play_paid_popular), len(play_free_popular)"
   ]
  },
  {
   "cell_type": "code",
   "execution_count": 127,
   "metadata": {},
   "outputs": [
    {
     "name": "stdout",
     "output_type": "stream",
     "text": [
      "Number of Paid Google Play Apps with >100,000 Reviews vs Free Play Apps with >100,000 Reviews: \n"
     ]
    },
    {
     "data": {
      "text/plain": [
       "(8, 1443)"
      ]
     },
     "execution_count": 127,
     "metadata": {},
     "output_type": "execute_result"
    }
   ],
   "source": [
    "play_paid_popular2 = play_paid[play_paid['Reviews']>100000]\n",
    "play_free_popular2 = play_free[play_free['Reviews']>100000]\n",
    "\n",
    "print(\"Number of Paid Google Play Apps with >100,000 Reviews vs Free Play Apps with >100,000 Reviews: \")\n",
    "len(play_paid_popular2), len(play_free_popular2)"
   ]
  },
  {
   "cell_type": "code",
   "execution_count": 132,
   "metadata": {},
   "outputs": [
    {
     "name": "stdout",
     "output_type": "stream",
     "text": [
      "Most Reviews for a free Google Play App:\n",
      "78158306\n",
      "Most Reviews for a paid Google Play App:\n",
      "2376564\n"
     ]
    }
   ],
   "source": [
    "print(\"Most Reviews for a free Google Play App:\") \n",
    "print(play_free['Reviews'].max())\n",
    "print(\"Most Reviews for a paid Google Play App:\") \n",
    "print(play_paid['Reviews'].max())"
   ]
  },
  {
   "cell_type": "markdown",
   "metadata": {},
   "source": [
    "Wow!  This is a huge difference in popularity.  Not only do the most popular apps get tens of millions of reviews, but with the exception of only one, there are no paid apps with over 500,000 reviews.  And - only eight paid apps surpass 100,000 reviews, while 1443(!) surpass this amount.  \n",
    "\n",
    "Let's look at the stats for the app store:"
   ]
  },
  {
   "cell_type": "code",
   "execution_count": 133,
   "metadata": {},
   "outputs": [
    {
     "name": "stdout",
     "output_type": "stream",
     "text": [
      "Number of Paid App Store Apps with >100,000 Reviews vs Free App Store Apps with >100,000 Reviews: \n"
     ]
    },
    {
     "data": {
      "text/plain": [
       "(19, 199)"
      ]
     },
     "execution_count": 133,
     "metadata": {},
     "output_type": "execute_result"
    }
   ],
   "source": [
    "apple_paid = apple_english_df[apple_english_df['price']>0.0]\n",
    "\n",
    "apple_free['rating_count_tot'] = apple_free['rating_count_tot'].astype(int)\n",
    "\n",
    "apple_paid_popular = apple_paid[apple_paid['rating_count_tot']>100000]\n",
    "apple_free_popular = apple_free[apple_free['rating_count_tot']>100000]\n",
    "\n",
    "print(\"Number of Paid App Store Apps with >100,000 Reviews vs Free App Store Apps with >100,000 Reviews: \")\n",
    "len(apple_paid_popular), len(apple_free_popular)"
   ]
  },
  {
   "cell_type": "markdown",
   "metadata": {},
   "source": [
    "Again, there is a large difference, almost ten fold in the popularity of free apps vs. paid apps\n",
    "\n",
    "Seeing as we're looking into an app with the highest earning potential, it would seem that our chances would be much better with a free app with revenue earned through advertisements.  \n",
    "\n",
    "For the remainder of this analysis, I'll base our data on the free apps only. "
   ]
  },
  {
   "cell_type": "markdown",
   "metadata": {},
   "source": [
    "## Categories "
   ]
  },
  {
   "cell_type": "code",
   "execution_count": 134,
   "metadata": {},
   "outputs": [
    {
     "name": "stdout",
     "output_type": "stream",
     "text": [
      "Free Google Play App Categories:\n"
     ]
    },
    {
     "data": {
      "text/plain": [
       "array(['ART_AND_DESIGN', 'AUTO_AND_VEHICLES', 'BEAUTY',\n",
       "       'BOOKS_AND_REFERENCE', 'BUSINESS', 'COMICS', 'COMMUNICATION',\n",
       "       'DATING', 'EDUCATION', 'ENTERTAINMENT', 'EVENTS', 'FINANCE',\n",
       "       'FOOD_AND_DRINK', 'HEALTH_AND_FITNESS', 'HOUSE_AND_HOME',\n",
       "       'LIBRARIES_AND_DEMO', 'LIFESTYLE', 'GAME', 'FAMILY', 'MEDICAL',\n",
       "       'SOCIAL', 'SHOPPING', 'PHOTOGRAPHY', 'SPORTS', 'TRAVEL_AND_LOCAL',\n",
       "       'TOOLS', 'PERSONALIZATION', 'PRODUCTIVITY', 'PARENTING', 'WEATHER',\n",
       "       'VIDEO_PLAYERS', 'NEWS_AND_MAGAZINES', 'MAPS_AND_NAVIGATION'],\n",
       "      dtype=object)"
      ]
     },
     "execution_count": 134,
     "metadata": {},
     "output_type": "execute_result"
    }
   ],
   "source": [
    "print(\"Free Google Play App Categories:\")\n",
    "play_free['Category'].unique()"
   ]
  },
  {
   "cell_type": "code",
   "execution_count": 135,
   "metadata": {},
   "outputs": [
    {
     "name": "stdout",
     "output_type": "stream",
     "text": [
      "Free App Store App Categories:\n"
     ]
    },
    {
     "data": {
      "text/plain": [
       "array(['Social Networking', 'Photo & Video', 'Games', 'Music',\n",
       "       'Reference', 'Health & Fitness', 'Weather', 'Utilities', 'Travel',\n",
       "       'Shopping', 'News', 'Navigation', 'Lifestyle', 'Entertainment',\n",
       "       'Food & Drink', 'Sports', 'Book', 'Finance', 'Education',\n",
       "       'Productivity', 'Business', 'Catalogs', 'Medical'], dtype=object)"
      ]
     },
     "execution_count": 135,
     "metadata": {},
     "output_type": "execute_result"
    }
   ],
   "source": [
    "print(\"Free App Store App Categories:\")\n",
    "apple_free['prime_genre'].unique()"
   ]
  },
  {
   "cell_type": "markdown",
   "metadata": {},
   "source": [
    "The differences in categories between the two operating systems prevents us really from combining the data together.  But - we can still use the categories in our analysis separately.  "
   ]
  },
  {
   "cell_type": "markdown",
   "metadata": {},
   "source": [
    "## Number of Reviews(Ratings)/Installs "
   ]
  },
  {
   "cell_type": "markdown",
   "metadata": {},
   "source": [
    "The top Google Play apps by # of installs:"
   ]
  },
  {
   "cell_type": "code",
   "execution_count": 140,
   "metadata": {},
   "outputs": [
    {
     "data": {
      "text/html": [
       "<div>\n",
       "<style scoped>\n",
       "    .dataframe tbody tr th:only-of-type {\n",
       "        vertical-align: middle;\n",
       "    }\n",
       "\n",
       "    .dataframe tbody tr th {\n",
       "        vertical-align: top;\n",
       "    }\n",
       "\n",
       "    .dataframe thead th {\n",
       "        text-align: right;\n",
       "    }\n",
       "</style>\n",
       "<table border=\"1\" class=\"dataframe\">\n",
       "  <thead>\n",
       "    <tr style=\"text-align: right;\">\n",
       "      <th></th>\n",
       "      <th>App</th>\n",
       "      <th>Category</th>\n",
       "      <th>Rating</th>\n",
       "      <th>Reviews</th>\n",
       "      <th>Size</th>\n",
       "      <th>Installs</th>\n",
       "      <th>Type</th>\n",
       "      <th>Price</th>\n",
       "      <th>Content Rating</th>\n",
       "      <th>Genres</th>\n",
       "      <th>Last Updated</th>\n",
       "      <th>Current Ver</th>\n",
       "      <th>Android Ver</th>\n",
       "    </tr>\n",
       "  </thead>\n",
       "  <tbody>\n",
       "    <tr>\n",
       "      <th>336</th>\n",
       "      <td>WhatsApp Messenger</td>\n",
       "      <td>COMMUNICATION</td>\n",
       "      <td>4.4</td>\n",
       "      <td>69119316</td>\n",
       "      <td>Varies with device</td>\n",
       "      <td>1000000000</td>\n",
       "      <td>Free</td>\n",
       "      <td>0.0</td>\n",
       "      <td>Everyone</td>\n",
       "      <td>Communication</td>\n",
       "      <td>August 3, 2018</td>\n",
       "      <td>Varies with device</td>\n",
       "      <td>Varies with device</td>\n",
       "    </tr>\n",
       "    <tr>\n",
       "      <th>391</th>\n",
       "      <td>Skype - free IM &amp; video calls</td>\n",
       "      <td>COMMUNICATION</td>\n",
       "      <td>4.1</td>\n",
       "      <td>10484169</td>\n",
       "      <td>Varies with device</td>\n",
       "      <td>1000000000</td>\n",
       "      <td>Free</td>\n",
       "      <td>0.0</td>\n",
       "      <td>Everyone</td>\n",
       "      <td>Communication</td>\n",
       "      <td>August 3, 2018</td>\n",
       "      <td>Varies with device</td>\n",
       "      <td>Varies with device</td>\n",
       "    </tr>\n",
       "    <tr>\n",
       "      <th>2604</th>\n",
       "      <td>Instagram</td>\n",
       "      <td>SOCIAL</td>\n",
       "      <td>4.5</td>\n",
       "      <td>66577446</td>\n",
       "      <td>Varies with device</td>\n",
       "      <td>1000000000</td>\n",
       "      <td>Free</td>\n",
       "      <td>0.0</td>\n",
       "      <td>Teen</td>\n",
       "      <td>Social</td>\n",
       "      <td>July 31, 2018</td>\n",
       "      <td>Varies with device</td>\n",
       "      <td>Varies with device</td>\n",
       "    </tr>\n",
       "    <tr>\n",
       "      <th>451</th>\n",
       "      <td>Gmail</td>\n",
       "      <td>COMMUNICATION</td>\n",
       "      <td>4.3</td>\n",
       "      <td>4604483</td>\n",
       "      <td>Varies with device</td>\n",
       "      <td>1000000000</td>\n",
       "      <td>Free</td>\n",
       "      <td>0.0</td>\n",
       "      <td>Everyone</td>\n",
       "      <td>Communication</td>\n",
       "      <td>August 2, 2018</td>\n",
       "      <td>Varies with device</td>\n",
       "      <td>Varies with device</td>\n",
       "    </tr>\n",
       "    <tr>\n",
       "      <th>464</th>\n",
       "      <td>Hangouts</td>\n",
       "      <td>COMMUNICATION</td>\n",
       "      <td>4.0</td>\n",
       "      <td>3419513</td>\n",
       "      <td>Varies with device</td>\n",
       "      <td>1000000000</td>\n",
       "      <td>Free</td>\n",
       "      <td>0.0</td>\n",
       "      <td>Everyone</td>\n",
       "      <td>Communication</td>\n",
       "      <td>July 21, 2018</td>\n",
       "      <td>Varies with device</td>\n",
       "      <td>Varies with device</td>\n",
       "    </tr>\n",
       "    <tr>\n",
       "      <th>3665</th>\n",
       "      <td>YouTube</td>\n",
       "      <td>VIDEO_PLAYERS</td>\n",
       "      <td>4.3</td>\n",
       "      <td>25655305</td>\n",
       "      <td>Varies with device</td>\n",
       "      <td>1000000000</td>\n",
       "      <td>Free</td>\n",
       "      <td>0.0</td>\n",
       "      <td>Teen</td>\n",
       "      <td>Video Players &amp; Editors</td>\n",
       "      <td>August 2, 2018</td>\n",
       "      <td>Varies with device</td>\n",
       "      <td>Varies with device</td>\n",
       "    </tr>\n",
       "    <tr>\n",
       "      <th>2554</th>\n",
       "      <td>Google+</td>\n",
       "      <td>SOCIAL</td>\n",
       "      <td>4.2</td>\n",
       "      <td>4831125</td>\n",
       "      <td>Varies with device</td>\n",
       "      <td>1000000000</td>\n",
       "      <td>Free</td>\n",
       "      <td>0.0</td>\n",
       "      <td>Teen</td>\n",
       "      <td>Social</td>\n",
       "      <td>July 26, 2018</td>\n",
       "      <td>Varies with device</td>\n",
       "      <td>Varies with device</td>\n",
       "    </tr>\n",
       "    <tr>\n",
       "      <th>1872</th>\n",
       "      <td>Subway Surfers</td>\n",
       "      <td>GAME</td>\n",
       "      <td>4.5</td>\n",
       "      <td>27725352</td>\n",
       "      <td>76M</td>\n",
       "      <td>1000000000</td>\n",
       "      <td>Free</td>\n",
       "      <td>0.0</td>\n",
       "      <td>Everyone 10+</td>\n",
       "      <td>Arcade</td>\n",
       "      <td>July 12, 2018</td>\n",
       "      <td>1.90.0</td>\n",
       "      <td>4.1 and up</td>\n",
       "    </tr>\n",
       "    <tr>\n",
       "      <th>2884</th>\n",
       "      <td>Google Photos</td>\n",
       "      <td>PHOTOGRAPHY</td>\n",
       "      <td>4.5</td>\n",
       "      <td>10859051</td>\n",
       "      <td>Varies with device</td>\n",
       "      <td>1000000000</td>\n",
       "      <td>Free</td>\n",
       "      <td>0.0</td>\n",
       "      <td>Everyone</td>\n",
       "      <td>Photography</td>\n",
       "      <td>August 6, 2018</td>\n",
       "      <td>Varies with device</td>\n",
       "      <td>Varies with device</td>\n",
       "    </tr>\n",
       "    <tr>\n",
       "      <th>3523</th>\n",
       "      <td>Google Drive</td>\n",
       "      <td>PRODUCTIVITY</td>\n",
       "      <td>4.4</td>\n",
       "      <td>2731211</td>\n",
       "      <td>Varies with device</td>\n",
       "      <td>1000000000</td>\n",
       "      <td>Free</td>\n",
       "      <td>0.0</td>\n",
       "      <td>Everyone</td>\n",
       "      <td>Productivity</td>\n",
       "      <td>August 6, 2018</td>\n",
       "      <td>Varies with device</td>\n",
       "      <td>Varies with device</td>\n",
       "    </tr>\n",
       "  </tbody>\n",
       "</table>\n",
       "</div>"
      ],
      "text/plain": [
       "                                App       Category  Rating   Reviews  \\\n",
       "336              WhatsApp Messenger  COMMUNICATION     4.4  69119316   \n",
       "391   Skype - free IM & video calls  COMMUNICATION     4.1  10484169   \n",
       "2604                      Instagram         SOCIAL     4.5  66577446   \n",
       "451                           Gmail  COMMUNICATION     4.3   4604483   \n",
       "464                        Hangouts  COMMUNICATION     4.0   3419513   \n",
       "3665                        YouTube  VIDEO_PLAYERS     4.3  25655305   \n",
       "2554                        Google+         SOCIAL     4.2   4831125   \n",
       "1872                 Subway Surfers           GAME     4.5  27725352   \n",
       "2884                  Google Photos    PHOTOGRAPHY     4.5  10859051   \n",
       "3523                   Google Drive   PRODUCTIVITY     4.4   2731211   \n",
       "\n",
       "                    Size    Installs  Type  Price Content Rating  \\\n",
       "336   Varies with device  1000000000  Free    0.0       Everyone   \n",
       "391   Varies with device  1000000000  Free    0.0       Everyone   \n",
       "2604  Varies with device  1000000000  Free    0.0           Teen   \n",
       "451   Varies with device  1000000000  Free    0.0       Everyone   \n",
       "464   Varies with device  1000000000  Free    0.0       Everyone   \n",
       "3665  Varies with device  1000000000  Free    0.0           Teen   \n",
       "2554  Varies with device  1000000000  Free    0.0           Teen   \n",
       "1872                 76M  1000000000  Free    0.0   Everyone 10+   \n",
       "2884  Varies with device  1000000000  Free    0.0       Everyone   \n",
       "3523  Varies with device  1000000000  Free    0.0       Everyone   \n",
       "\n",
       "                       Genres    Last Updated         Current Ver  \\\n",
       "336             Communication  August 3, 2018  Varies with device   \n",
       "391             Communication  August 3, 2018  Varies with device   \n",
       "2604                   Social   July 31, 2018  Varies with device   \n",
       "451             Communication  August 2, 2018  Varies with device   \n",
       "464             Communication   July 21, 2018  Varies with device   \n",
       "3665  Video Players & Editors  August 2, 2018  Varies with device   \n",
       "2554                   Social   July 26, 2018  Varies with device   \n",
       "1872                   Arcade   July 12, 2018              1.90.0   \n",
       "2884              Photography  August 6, 2018  Varies with device   \n",
       "3523             Productivity  August 6, 2018  Varies with device   \n",
       "\n",
       "             Android Ver  \n",
       "336   Varies with device  \n",
       "391   Varies with device  \n",
       "2604  Varies with device  \n",
       "451   Varies with device  \n",
       "464   Varies with device  \n",
       "3665  Varies with device  \n",
       "2554  Varies with device  \n",
       "1872          4.1 and up  \n",
       "2884  Varies with device  \n",
       "3523  Varies with device  "
      ]
     },
     "execution_count": 140,
     "metadata": {},
     "output_type": "execute_result"
    }
   ],
   "source": [
    "#Cleaning the Installs column:\n",
    "play_free['Installs'] = play_free['Installs'].str.replace('+','')\n",
    "play_free['Installs'] = play_free['Installs'].str.replace(',','')\n",
    "play_free['Installs'] = play_free['Installs'].astype(int)\n",
    "\n",
    "play_free.sort_values('Installs',ascending=False).head(10)"
   ]
  },
  {
   "cell_type": "markdown",
   "metadata": {},
   "source": [
    "Here we can see that there are several dominant apps in various categories that are outliers and don't represent 'regular' apps. This is better illustrated below:"
   ]
  },
  {
   "cell_type": "code",
   "execution_count": 41,
   "metadata": {},
   "outputs": [
    {
     "data": {
      "text/html": [
       "<div class='tableauPlaceholder' id='viz1597608679877' style='position: relative'><noscript><a href='#'><img alt=' ' src='https:&#47;&#47;public.tableau.com&#47;static&#47;images&#47;Go&#47;GooglePlayOutliers&#47;Sheet4&#47;1_rss.png' style='border: none' /></a></noscript><object class='tableauViz'  style='display:none;'><param name='host_url' value='https%3A%2F%2Fpublic.tableau.com%2F' /> <param name='embed_code_version' value='3' /> <param name='site_root' value='' /><param name='name' value='GooglePlayOutliers&#47;Sheet4' /><param name='tabs' value='no' /><param name='toolbar' value='yes' /><param name='static_image' value='https:&#47;&#47;public.tableau.com&#47;static&#47;images&#47;Go&#47;GooglePlayOutliers&#47;Sheet4&#47;1.png' /> <param name='animate_transition' value='yes' /><param name='display_static_image' value='yes' /><param name='display_spinner' value='yes' /><param name='display_overlay' value='yes' /><param name='display_count' value='yes' /><param name='language' value='en' /><param name='filter' value='publish=yes' /></object></div>                <script type='text/javascript'>                    var divElement = document.getElementById('viz1597608679877');                    var vizElement = divElement.getElementsByTagName('object')[0];                    vizElement.style.width='100%';vizElement.style.height=(divElement.offsetWidth*0.75)+'px';                    var scriptElement = document.createElement('script');                    scriptElement.src = 'https://public.tableau.com/javascripts/api/viz_v1.js';                    vizElement.parentNode.insertBefore(scriptElement, vizElement);                </script>\n"
      ],
      "text/plain": [
       "<IPython.core.display.HTML object>"
      ]
     },
     "metadata": {},
     "output_type": "display_data"
    }
   ],
   "source": [
    "%%HTML\n",
    "<div class='tableauPlaceholder' id='viz1597608679877' style='position: relative'><noscript><a href='#'><img alt=' ' src='https:&#47;&#47;public.tableau.com&#47;static&#47;images&#47;Go&#47;GooglePlayOutliers&#47;Sheet4&#47;1_rss.png' style='border: none' /></a></noscript><object class='tableauViz'  style='display:none;'><param name='host_url' value='https%3A%2F%2Fpublic.tableau.com%2F' /> <param name='embed_code_version' value='3' /> <param name='site_root' value='' /><param name='name' value='GooglePlayOutliers&#47;Sheet4' /><param name='tabs' value='no' /><param name='toolbar' value='yes' /><param name='static_image' value='https:&#47;&#47;public.tableau.com&#47;static&#47;images&#47;Go&#47;GooglePlayOutliers&#47;Sheet4&#47;1.png' /> <param name='animate_transition' value='yes' /><param name='display_static_image' value='yes' /><param name='display_spinner' value='yes' /><param name='display_overlay' value='yes' /><param name='display_count' value='yes' /><param name='language' value='en' /><param name='filter' value='publish=yes' /></object></div>                <script type='text/javascript'>                    var divElement = document.getElementById('viz1597608679877');                    var vizElement = divElement.getElementsByTagName('object')[0];                    vizElement.style.width='100%';vizElement.style.height=(divElement.offsetWidth*0.75)+'px';                    var scriptElement = document.createElement('script');                    scriptElement.src = 'https://public.tableau.com/javascripts/api/viz_v1.js';                    vizElement.parentNode.insertBefore(scriptElement, vizElement);                </script>"
   ]
  },
  {
   "cell_type": "markdown",
   "metadata": {},
   "source": [
    "Let's see what happens when we sort by the mean # of installs for each category:"
   ]
  },
  {
   "cell_type": "code",
   "execution_count": 155,
   "metadata": {},
   "outputs": [
    {
     "data": {
      "text/html": [
       "<div>\n",
       "<style scoped>\n",
       "    .dataframe tbody tr th:only-of-type {\n",
       "        vertical-align: middle;\n",
       "    }\n",
       "\n",
       "    .dataframe tbody tr th {\n",
       "        vertical-align: top;\n",
       "    }\n",
       "\n",
       "    .dataframe thead th {\n",
       "        text-align: right;\n",
       "    }\n",
       "</style>\n",
       "<table border=\"1\" class=\"dataframe\">\n",
       "  <thead>\n",
       "    <tr style=\"text-align: right;\">\n",
       "      <th></th>\n",
       "      <th>Category</th>\n",
       "      <th>Installs</th>\n",
       "    </tr>\n",
       "  </thead>\n",
       "  <tbody>\n",
       "    <tr>\n",
       "      <th>0</th>\n",
       "      <td>COMMUNICATION</td>\n",
       "      <td>3.832263e+07</td>\n",
       "    </tr>\n",
       "    <tr>\n",
       "      <th>1</th>\n",
       "      <td>VIDEO_PLAYERS</td>\n",
       "      <td>2.457395e+07</td>\n",
       "    </tr>\n",
       "    <tr>\n",
       "      <th>2</th>\n",
       "      <td>SOCIAL</td>\n",
       "      <td>2.325365e+07</td>\n",
       "    </tr>\n",
       "    <tr>\n",
       "      <th>3</th>\n",
       "      <td>PHOTOGRAPHY</td>\n",
       "      <td>1.777202e+07</td>\n",
       "    </tr>\n",
       "    <tr>\n",
       "      <th>4</th>\n",
       "      <td>PRODUCTIVITY</td>\n",
       "      <td>1.673896e+07</td>\n",
       "    </tr>\n",
       "    <tr>\n",
       "      <th>5</th>\n",
       "      <td>GAME</td>\n",
       "      <td>1.555200e+07</td>\n",
       "    </tr>\n",
       "    <tr>\n",
       "      <th>6</th>\n",
       "      <td>TRAVEL_AND_LOCAL</td>\n",
       "      <td>1.398408e+07</td>\n",
       "    </tr>\n",
       "    <tr>\n",
       "      <th>7</th>\n",
       "      <td>ENTERTAINMENT</td>\n",
       "      <td>1.164071e+07</td>\n",
       "    </tr>\n",
       "    <tr>\n",
       "      <th>8</th>\n",
       "      <td>TOOLS</td>\n",
       "      <td>1.078701e+07</td>\n",
       "    </tr>\n",
       "    <tr>\n",
       "      <th>9</th>\n",
       "      <td>NEWS_AND_MAGAZINES</td>\n",
       "      <td>9.401636e+06</td>\n",
       "    </tr>\n",
       "  </tbody>\n",
       "</table>\n",
       "</div>"
      ],
      "text/plain": [
       "             Category      Installs\n",
       "0       COMMUNICATION  3.832263e+07\n",
       "1       VIDEO_PLAYERS  2.457395e+07\n",
       "2              SOCIAL  2.325365e+07\n",
       "3         PHOTOGRAPHY  1.777202e+07\n",
       "4        PRODUCTIVITY  1.673896e+07\n",
       "5                GAME  1.555200e+07\n",
       "6    TRAVEL_AND_LOCAL  1.398408e+07\n",
       "7       ENTERTAINMENT  1.164071e+07\n",
       "8               TOOLS  1.078701e+07\n",
       "9  NEWS_AND_MAGAZINES  9.401636e+06"
      ]
     },
     "execution_count": 155,
     "metadata": {},
     "output_type": "execute_result"
    }
   ],
   "source": [
    "play_free.groupby('Category')['Installs'].mean().sort_values(ascending=False).reset_index().head(10)"
   ]
  },
  {
   "cell_type": "markdown",
   "metadata": {},
   "source": [
    "Now let's see what happens when we take out the top 5% of installed apps and the bottom 5% and we revisit the mean, we can see that the the order has been displaced once the extremely popular apps are removed.  I'd probably stay away from the video players, social, and communication categories as making an app in those categories would face stiff competition.  "
   ]
  },
  {
   "cell_type": "code",
   "execution_count": 156,
   "metadata": {},
   "outputs": [
    {
     "data": {
      "text/html": [
       "<div>\n",
       "<style scoped>\n",
       "    .dataframe tbody tr th:only-of-type {\n",
       "        vertical-align: middle;\n",
       "    }\n",
       "\n",
       "    .dataframe tbody tr th {\n",
       "        vertical-align: top;\n",
       "    }\n",
       "\n",
       "    .dataframe thead th {\n",
       "        text-align: right;\n",
       "    }\n",
       "</style>\n",
       "<table border=\"1\" class=\"dataframe\">\n",
       "  <thead>\n",
       "    <tr style=\"text-align: right;\">\n",
       "      <th></th>\n",
       "      <th>Category</th>\n",
       "      <th>Installs</th>\n",
       "    </tr>\n",
       "  </thead>\n",
       "  <tbody>\n",
       "    <tr>\n",
       "      <th>0</th>\n",
       "      <td>ENTERTAINMENT</td>\n",
       "      <td>3.808684e+06</td>\n",
       "    </tr>\n",
       "    <tr>\n",
       "      <th>1</th>\n",
       "      <td>PHOTOGRAPHY</td>\n",
       "      <td>3.453283e+06</td>\n",
       "    </tr>\n",
       "    <tr>\n",
       "      <th>2</th>\n",
       "      <td>GAME</td>\n",
       "      <td>3.306546e+06</td>\n",
       "    </tr>\n",
       "    <tr>\n",
       "      <th>3</th>\n",
       "      <td>SHOPPING</td>\n",
       "      <td>3.074517e+06</td>\n",
       "    </tr>\n",
       "    <tr>\n",
       "      <th>4</th>\n",
       "      <td>COMMUNICATION</td>\n",
       "      <td>2.476439e+06</td>\n",
       "    </tr>\n",
       "    <tr>\n",
       "      <th>5</th>\n",
       "      <td>WEATHER</td>\n",
       "      <td>2.465977e+06</td>\n",
       "    </tr>\n",
       "    <tr>\n",
       "      <th>6</th>\n",
       "      <td>VIDEO_PLAYERS</td>\n",
       "      <td>2.387278e+06</td>\n",
       "    </tr>\n",
       "    <tr>\n",
       "      <th>7</th>\n",
       "      <td>SOCIAL</td>\n",
       "      <td>2.146381e+06</td>\n",
       "    </tr>\n",
       "    <tr>\n",
       "      <th>8</th>\n",
       "      <td>SPORTS</td>\n",
       "      <td>2.081032e+06</td>\n",
       "    </tr>\n",
       "    <tr>\n",
       "      <th>9</th>\n",
       "      <td>TRAVEL_AND_LOCAL</td>\n",
       "      <td>2.055750e+06</td>\n",
       "    </tr>\n",
       "  </tbody>\n",
       "</table>\n",
       "</div>"
      ],
      "text/plain": [
       "           Category      Installs\n",
       "0     ENTERTAINMENT  3.808684e+06\n",
       "1       PHOTOGRAPHY  3.453283e+06\n",
       "2              GAME  3.306546e+06\n",
       "3          SHOPPING  3.074517e+06\n",
       "4     COMMUNICATION  2.476439e+06\n",
       "5           WEATHER  2.465977e+06\n",
       "6     VIDEO_PLAYERS  2.387278e+06\n",
       "7            SOCIAL  2.146381e+06\n",
       "8            SPORTS  2.081032e+06\n",
       "9  TRAVEL_AND_LOCAL  2.055750e+06"
      ]
     },
     "execution_count": 156,
     "metadata": {},
     "output_type": "execute_result"
    }
   ],
   "source": [
    "iqr = play_free[play_free['Installs'].between(play_free['Installs'].quantile(.05), play_free['Installs'].quantile(.95), inclusive=True)]\n",
    "iqr.groupby('Category')['Installs'].mean().sort_values(ascending=False).reset_index().head(10)"
   ]
  },
  {
   "cell_type": "code",
   "execution_count": 141,
   "metadata": {},
   "outputs": [
    {
     "name": "stdout",
     "output_type": "stream",
     "text": [
      "Number of Apps When Taking Out the Highest and Lowest 5% of Number of Reviewed Apps vs All Free Apps:\n"
     ]
    },
    {
     "data": {
      "text/plain": [
       "(8032, 8905)"
      ]
     },
     "execution_count": 141,
     "metadata": {},
     "output_type": "execute_result"
    }
   ],
   "source": [
    "print(\"Number of Apps When Taking Out the Highest and Lowest 5% of Number of Reviewed Apps vs All Free Apps:\")\n",
    "len(iqr), len(play_free)"
   ]
  },
  {
   "cell_type": "markdown",
   "metadata": {},
   "source": [
    "Top 10 Apps After Adjusting for the Outliers:"
   ]
  },
  {
   "cell_type": "code",
   "execution_count": 142,
   "metadata": {},
   "outputs": [
    {
     "data": {
      "text/html": [
       "<div>\n",
       "<style scoped>\n",
       "    .dataframe tbody tr th:only-of-type {\n",
       "        vertical-align: middle;\n",
       "    }\n",
       "\n",
       "    .dataframe tbody tr th {\n",
       "        vertical-align: top;\n",
       "    }\n",
       "\n",
       "    .dataframe thead th {\n",
       "        text-align: right;\n",
       "    }\n",
       "</style>\n",
       "<table border=\"1\" class=\"dataframe\">\n",
       "  <thead>\n",
       "    <tr style=\"text-align: right;\">\n",
       "      <th></th>\n",
       "      <th>App</th>\n",
       "      <th>Category</th>\n",
       "      <th>Rating</th>\n",
       "      <th>Reviews</th>\n",
       "      <th>Size</th>\n",
       "      <th>Installs</th>\n",
       "      <th>Type</th>\n",
       "      <th>Price</th>\n",
       "      <th>Content Rating</th>\n",
       "      <th>Genres</th>\n",
       "      <th>Last Updated</th>\n",
       "      <th>Current Ver</th>\n",
       "      <th>Android Ver</th>\n",
       "    </tr>\n",
       "  </thead>\n",
       "  <tbody>\n",
       "    <tr>\n",
       "      <th>5948</th>\n",
       "      <td>PBA® Bowling Challenge</td>\n",
       "      <td>SPORTS</td>\n",
       "      <td>4.3</td>\n",
       "      <td>242096</td>\n",
       "      <td>87M</td>\n",
       "      <td>10000000</td>\n",
       "      <td>Free</td>\n",
       "      <td>0.0</td>\n",
       "      <td>Everyone</td>\n",
       "      <td>Sports</td>\n",
       "      <td>August 2, 2018</td>\n",
       "      <td>3.4.4</td>\n",
       "      <td>4.1 and up</td>\n",
       "    </tr>\n",
       "    <tr>\n",
       "      <th>3149</th>\n",
       "      <td>Despegar.com Hotels and Flights</td>\n",
       "      <td>TRAVEL_AND_LOCAL</td>\n",
       "      <td>4.4</td>\n",
       "      <td>150932</td>\n",
       "      <td>27M</td>\n",
       "      <td>10000000</td>\n",
       "      <td>Free</td>\n",
       "      <td>0.0</td>\n",
       "      <td>Everyone</td>\n",
       "      <td>Travel &amp; Local</td>\n",
       "      <td>July 30, 2018</td>\n",
       "      <td>9.1.0</td>\n",
       "      <td>4.1 and up</td>\n",
       "    </tr>\n",
       "    <tr>\n",
       "      <th>3268</th>\n",
       "      <td>Google app for Android TV</td>\n",
       "      <td>TOOLS</td>\n",
       "      <td>3.0</td>\n",
       "      <td>66</td>\n",
       "      <td>Varies with device</td>\n",
       "      <td>10000000</td>\n",
       "      <td>Free</td>\n",
       "      <td>0.0</td>\n",
       "      <td>Everyone</td>\n",
       "      <td>Tools</td>\n",
       "      <td>July 19, 2018</td>\n",
       "      <td>Varies with device</td>\n",
       "      <td>Varies with device</td>\n",
       "    </tr>\n",
       "    <tr>\n",
       "      <th>3267</th>\n",
       "      <td>AT&amp;T Smart Wi-Fi</td>\n",
       "      <td>TOOLS</td>\n",
       "      <td>3.9</td>\n",
       "      <td>18513</td>\n",
       "      <td>6.1M</td>\n",
       "      <td>10000000</td>\n",
       "      <td>Free</td>\n",
       "      <td>0.0</td>\n",
       "      <td>Everyone</td>\n",
       "      <td>Tools</td>\n",
       "      <td>April 26, 2018</td>\n",
       "      <td>3.2</td>\n",
       "      <td>4.1 and up</td>\n",
       "    </tr>\n",
       "    <tr>\n",
       "      <th>3264</th>\n",
       "      <td>HTC Lock Screen</td>\n",
       "      <td>TOOLS</td>\n",
       "      <td>4.1</td>\n",
       "      <td>28250</td>\n",
       "      <td>Varies with device</td>\n",
       "      <td>10000000</td>\n",
       "      <td>Free</td>\n",
       "      <td>0.0</td>\n",
       "      <td>Everyone</td>\n",
       "      <td>Tools</td>\n",
       "      <td>March 21, 2017</td>\n",
       "      <td>Varies with device</td>\n",
       "      <td>Varies with device</td>\n",
       "    </tr>\n",
       "    <tr>\n",
       "      <th>3263</th>\n",
       "      <td>Phone</td>\n",
       "      <td>TOOLS</td>\n",
       "      <td>3.6</td>\n",
       "      <td>45483</td>\n",
       "      <td>Varies with device</td>\n",
       "      <td>10000000</td>\n",
       "      <td>Free</td>\n",
       "      <td>0.0</td>\n",
       "      <td>Everyone</td>\n",
       "      <td>Tools</td>\n",
       "      <td>July 30, 2018</td>\n",
       "      <td>Varies with device</td>\n",
       "      <td>Varies with device</td>\n",
       "    </tr>\n",
       "    <tr>\n",
       "      <th>3262</th>\n",
       "      <td>Clear</td>\n",
       "      <td>TOOLS</td>\n",
       "      <td>3.1</td>\n",
       "      <td>24151</td>\n",
       "      <td>15M</td>\n",
       "      <td>10000000</td>\n",
       "      <td>Free</td>\n",
       "      <td>0.0</td>\n",
       "      <td>Everyone</td>\n",
       "      <td>Tools</td>\n",
       "      <td>August 6, 2018</td>\n",
       "      <td>11.7.0</td>\n",
       "      <td>4.1 and up</td>\n",
       "    </tr>\n",
       "    <tr>\n",
       "      <th>3260</th>\n",
       "      <td>File Manager -- Take Command of Your Files Easily</td>\n",
       "      <td>TOOLS</td>\n",
       "      <td>4.2</td>\n",
       "      <td>127223</td>\n",
       "      <td>7.6M</td>\n",
       "      <td>10000000</td>\n",
       "      <td>Free</td>\n",
       "      <td>0.0</td>\n",
       "      <td>Everyone</td>\n",
       "      <td>Tools</td>\n",
       "      <td>August 3, 2018</td>\n",
       "      <td>v7.0.7.1.0625.1_06_0629</td>\n",
       "      <td>5.0 and up</td>\n",
       "    </tr>\n",
       "    <tr>\n",
       "      <th>3257</th>\n",
       "      <td>Files Go by Google: Free up space on your phone</td>\n",
       "      <td>TOOLS</td>\n",
       "      <td>4.6</td>\n",
       "      <td>315585</td>\n",
       "      <td>8.5M</td>\n",
       "      <td>10000000</td>\n",
       "      <td>Free</td>\n",
       "      <td>0.0</td>\n",
       "      <td>Everyone</td>\n",
       "      <td>Tools</td>\n",
       "      <td>July 18, 2018</td>\n",
       "      <td>1.0.204375696</td>\n",
       "      <td>5.0 and up</td>\n",
       "    </tr>\n",
       "    <tr>\n",
       "      <th>3256</th>\n",
       "      <td>ZenUI Keyboard – Emoji, Theme</td>\n",
       "      <td>TOOLS</td>\n",
       "      <td>4.5</td>\n",
       "      <td>537554</td>\n",
       "      <td>Varies with device</td>\n",
       "      <td>10000000</td>\n",
       "      <td>Free</td>\n",
       "      <td>0.0</td>\n",
       "      <td>Everyone</td>\n",
       "      <td>Tools</td>\n",
       "      <td>August 1, 2018</td>\n",
       "      <td>Varies with device</td>\n",
       "      <td>Varies with device</td>\n",
       "    </tr>\n",
       "  </tbody>\n",
       "</table>\n",
       "</div>"
      ],
      "text/plain": [
       "                                                    App          Category  \\\n",
       "5948                             PBA® Bowling Challenge            SPORTS   \n",
       "3149                    Despegar.com Hotels and Flights  TRAVEL_AND_LOCAL   \n",
       "3268                          Google app for Android TV             TOOLS   \n",
       "3267                                   AT&T Smart Wi-Fi             TOOLS   \n",
       "3264                                    HTC Lock Screen             TOOLS   \n",
       "3263                                              Phone             TOOLS   \n",
       "3262                                              Clear             TOOLS   \n",
       "3260  File Manager -- Take Command of Your Files Easily             TOOLS   \n",
       "3257    Files Go by Google: Free up space on your phone             TOOLS   \n",
       "3256                      ZenUI Keyboard – Emoji, Theme             TOOLS   \n",
       "\n",
       "      Rating  Reviews                Size  Installs  Type  Price  \\\n",
       "5948     4.3   242096                 87M  10000000  Free    0.0   \n",
       "3149     4.4   150932                 27M  10000000  Free    0.0   \n",
       "3268     3.0       66  Varies with device  10000000  Free    0.0   \n",
       "3267     3.9    18513                6.1M  10000000  Free    0.0   \n",
       "3264     4.1    28250  Varies with device  10000000  Free    0.0   \n",
       "3263     3.6    45483  Varies with device  10000000  Free    0.0   \n",
       "3262     3.1    24151                 15M  10000000  Free    0.0   \n",
       "3260     4.2   127223                7.6M  10000000  Free    0.0   \n",
       "3257     4.6   315585                8.5M  10000000  Free    0.0   \n",
       "3256     4.5   537554  Varies with device  10000000  Free    0.0   \n",
       "\n",
       "     Content Rating          Genres    Last Updated              Current Ver  \\\n",
       "5948       Everyone          Sports  August 2, 2018                    3.4.4   \n",
       "3149       Everyone  Travel & Local   July 30, 2018                    9.1.0   \n",
       "3268       Everyone           Tools   July 19, 2018       Varies with device   \n",
       "3267       Everyone           Tools  April 26, 2018                      3.2   \n",
       "3264       Everyone           Tools  March 21, 2017       Varies with device   \n",
       "3263       Everyone           Tools   July 30, 2018       Varies with device   \n",
       "3262       Everyone           Tools  August 6, 2018                   11.7.0   \n",
       "3260       Everyone           Tools  August 3, 2018  v7.0.7.1.0625.1_06_0629   \n",
       "3257       Everyone           Tools   July 18, 2018            1.0.204375696   \n",
       "3256       Everyone           Tools  August 1, 2018       Varies with device   \n",
       "\n",
       "             Android Ver  \n",
       "5948          4.1 and up  \n",
       "3149          4.1 and up  \n",
       "3268  Varies with device  \n",
       "3267          4.1 and up  \n",
       "3264  Varies with device  \n",
       "3263  Varies with device  \n",
       "3262          4.1 and up  \n",
       "3260          5.0 and up  \n",
       "3257          5.0 and up  \n",
       "3256  Varies with device  "
      ]
     },
     "execution_count": 142,
     "metadata": {},
     "output_type": "execute_result"
    }
   ],
   "source": [
    "iqr.sort_values('Installs',ascending=False).head(10)"
   ]
  },
  {
   "cell_type": "markdown",
   "metadata": {},
   "source": [
    "I think that the number of times an app was reviewed is a nice gauge to see how popular an app was (it's also necessary when looking at the Apple data as there is no data on the amount of installs). On Google it is the 'Reviews' column and on Apple it is the 'rating_count_tot' column.  I want to make sure the results aren't skewed with apps that were rated a limited number of times, so I'm going to omit the lowest quartile when looking at the number of reviews/ratings.  "
   ]
  },
  {
   "cell_type": "code",
   "execution_count": 143,
   "metadata": {},
   "outputs": [
    {
     "name": "stdout",
     "output_type": "stream",
     "text": [
      "Quartiles\n"
     ]
    },
    {
     "data": {
      "text/plain": [
       "0.25       42.00\n",
       "0.50     1375.50\n",
       "0.75    27506.75\n",
       "Name: Reviews, dtype: float64"
      ]
     },
     "execution_count": 143,
     "metadata": {},
     "output_type": "execute_result"
    }
   ],
   "source": [
    "play_free2 = iqr\n",
    "play_free2['Reviews'] = play_free2['Reviews'].astype(int)\n",
    "\n",
    "print(\"Google Quartiles\")\n",
    "play_free2.Reviews.quantile([0.25,0.5,0.75])"
   ]
  },
  {
   "cell_type": "code",
   "execution_count": 144,
   "metadata": {},
   "outputs": [],
   "source": [
    "play_english = play_free2[play_free2['Reviews']>42]"
   ]
  },
  {
   "cell_type": "code",
   "execution_count": 146,
   "metadata": {},
   "outputs": [
    {
     "name": "stdout",
     "output_type": "stream",
     "text": [
      "Apple Quantile\n"
     ]
    },
    {
     "data": {
      "text/plain": [
       "0.25       147.0\n",
       "0.50      1204.0\n",
       "0.75      9975.0\n",
       "0.95    119316.0\n",
       "Name: rating_count_tot, dtype: float64"
      ]
     },
     "execution_count": 146,
     "metadata": {},
     "output_type": "execute_result"
    }
   ],
   "source": [
    "print(\"Apple Quantile\")\n",
    "apple_free.rating_count_tot.quantile([0.25,0.5,0.75,0.95])"
   ]
  },
  {
   "cell_type": "code",
   "execution_count": 52,
   "metadata": {},
   "outputs": [],
   "source": [
    "apple_english = apple_free[(apple_free['rating_count_tot']>147) & (apple_free['rating_count_tot']<119316)]"
   ]
  },
  {
   "cell_type": "markdown",
   "metadata": {},
   "source": [
    "Again, let's look at the before and after when the top and bottom 5% are removed, this time with the Apple Store apps:"
   ]
  },
  {
   "cell_type": "code",
   "execution_count": 157,
   "metadata": {},
   "outputs": [
    {
     "name": "stdout",
     "output_type": "stream",
     "text": [
      "Before:\n"
     ]
    },
    {
     "data": {
      "text/html": [
       "<div>\n",
       "<style scoped>\n",
       "    .dataframe tbody tr th:only-of-type {\n",
       "        vertical-align: middle;\n",
       "    }\n",
       "\n",
       "    .dataframe tbody tr th {\n",
       "        vertical-align: top;\n",
       "    }\n",
       "\n",
       "    .dataframe thead th {\n",
       "        text-align: right;\n",
       "    }\n",
       "</style>\n",
       "<table border=\"1\" class=\"dataframe\">\n",
       "  <thead>\n",
       "    <tr style=\"text-align: right;\">\n",
       "      <th></th>\n",
       "      <th>prime_genre</th>\n",
       "      <th>rating_count_tot</th>\n",
       "    </tr>\n",
       "  </thead>\n",
       "  <tbody>\n",
       "    <tr>\n",
       "      <th>0</th>\n",
       "      <td>Navigation</td>\n",
       "      <td>86090.333333</td>\n",
       "    </tr>\n",
       "    <tr>\n",
       "      <th>1</th>\n",
       "      <td>Reference</td>\n",
       "      <td>79350.470588</td>\n",
       "    </tr>\n",
       "    <tr>\n",
       "      <th>2</th>\n",
       "      <td>Social Networking</td>\n",
       "      <td>71548.349057</td>\n",
       "    </tr>\n",
       "    <tr>\n",
       "      <th>3</th>\n",
       "      <td>Music</td>\n",
       "      <td>57326.530303</td>\n",
       "    </tr>\n",
       "    <tr>\n",
       "      <th>4</th>\n",
       "      <td>Weather</td>\n",
       "      <td>52279.892857</td>\n",
       "    </tr>\n",
       "    <tr>\n",
       "      <th>5</th>\n",
       "      <td>Book</td>\n",
       "      <td>46384.916667</td>\n",
       "    </tr>\n",
       "    <tr>\n",
       "      <th>6</th>\n",
       "      <td>Food &amp; Drink</td>\n",
       "      <td>33333.923077</td>\n",
       "    </tr>\n",
       "    <tr>\n",
       "      <th>7</th>\n",
       "      <td>Finance</td>\n",
       "      <td>32367.028571</td>\n",
       "    </tr>\n",
       "    <tr>\n",
       "      <th>8</th>\n",
       "      <td>Photo &amp; Video</td>\n",
       "      <td>28441.543750</td>\n",
       "    </tr>\n",
       "    <tr>\n",
       "      <th>9</th>\n",
       "      <td>Travel</td>\n",
       "      <td>28243.800000</td>\n",
       "    </tr>\n",
       "  </tbody>\n",
       "</table>\n",
       "</div>"
      ],
      "text/plain": [
       "         prime_genre  rating_count_tot\n",
       "0         Navigation      86090.333333\n",
       "1          Reference      79350.470588\n",
       "2  Social Networking      71548.349057\n",
       "3              Music      57326.530303\n",
       "4            Weather      52279.892857\n",
       "5               Book      46384.916667\n",
       "6       Food & Drink      33333.923077\n",
       "7            Finance      32367.028571\n",
       "8      Photo & Video      28441.543750\n",
       "9             Travel      28243.800000"
      ]
     },
     "execution_count": 157,
     "metadata": {},
     "output_type": "execute_result"
    }
   ],
   "source": [
    "print(\"Before:\")\n",
    "apple_free.groupby('prime_genre')['rating_count_tot'].mean().sort_values(ascending=False).reset_index().head(10)"
   ]
  },
  {
   "cell_type": "code",
   "execution_count": 158,
   "metadata": {},
   "outputs": [
    {
     "name": "stdout",
     "output_type": "stream",
     "text": [
      "After:\n"
     ]
    },
    {
     "data": {
      "text/html": [
       "<div>\n",
       "<style scoped>\n",
       "    .dataframe tbody tr th:only-of-type {\n",
       "        vertical-align: middle;\n",
       "    }\n",
       "\n",
       "    .dataframe tbody tr th {\n",
       "        vertical-align: top;\n",
       "    }\n",
       "\n",
       "    .dataframe thead th {\n",
       "        text-align: right;\n",
       "    }\n",
       "</style>\n",
       "<table border=\"1\" class=\"dataframe\">\n",
       "  <thead>\n",
       "    <tr style=\"text-align: right;\">\n",
       "      <th></th>\n",
       "      <th>prime_genre</th>\n",
       "      <th>rating_count_tot</th>\n",
       "    </tr>\n",
       "  </thead>\n",
       "  <tbody>\n",
       "    <tr>\n",
       "      <th>0</th>\n",
       "      <td>Book</td>\n",
       "      <td>38066.750000</td>\n",
       "    </tr>\n",
       "    <tr>\n",
       "      <th>1</th>\n",
       "      <td>Weather</td>\n",
       "      <td>27613.500000</td>\n",
       "    </tr>\n",
       "    <tr>\n",
       "      <th>2</th>\n",
       "      <td>Finance</td>\n",
       "      <td>19415.363636</td>\n",
       "    </tr>\n",
       "    <tr>\n",
       "      <th>3</th>\n",
       "      <td>Shopping</td>\n",
       "      <td>18160.338462</td>\n",
       "    </tr>\n",
       "    <tr>\n",
       "      <th>4</th>\n",
       "      <td>Food &amp; Drink</td>\n",
       "      <td>17887.647059</td>\n",
       "    </tr>\n",
       "    <tr>\n",
       "      <th>5</th>\n",
       "      <td>Social Networking</td>\n",
       "      <td>16858.388235</td>\n",
       "    </tr>\n",
       "    <tr>\n",
       "      <th>6</th>\n",
       "      <td>Productivity</td>\n",
       "      <td>16823.666667</td>\n",
       "    </tr>\n",
       "    <tr>\n",
       "      <th>7</th>\n",
       "      <td>Sports</td>\n",
       "      <td>15323.162791</td>\n",
       "    </tr>\n",
       "    <tr>\n",
       "      <th>8</th>\n",
       "      <td>News</td>\n",
       "      <td>15225.785714</td>\n",
       "    </tr>\n",
       "    <tr>\n",
       "      <th>9</th>\n",
       "      <td>Utilities</td>\n",
       "      <td>14104.490909</td>\n",
       "    </tr>\n",
       "  </tbody>\n",
       "</table>\n",
       "</div>"
      ],
      "text/plain": [
       "         prime_genre  rating_count_tot\n",
       "0               Book      38066.750000\n",
       "1            Weather      27613.500000\n",
       "2            Finance      19415.363636\n",
       "3           Shopping      18160.338462\n",
       "4       Food & Drink      17887.647059\n",
       "5  Social Networking      16858.388235\n",
       "6       Productivity      16823.666667\n",
       "7             Sports      15323.162791\n",
       "8               News      15225.785714\n",
       "9          Utilities      14104.490909"
      ]
     },
     "execution_count": 158,
     "metadata": {},
     "output_type": "execute_result"
    }
   ],
   "source": [
    "print(\"After:\")\n",
    "apple_english = apple_free[(apple_free['rating_count_tot']>147) & (apple_free['rating_count_tot']<119316)]\n",
    "apple_english.groupby('prime_genre')['rating_count_tot'].mean().sort_values(ascending=False).reset_index().head(10)"
   ]
  },
  {
   "cell_type": "code",
   "execution_count": 55,
   "metadata": {},
   "outputs": [],
   "source": [
    "#DL these clean files to desktop for Tableau use \n",
    "\n",
    "apple_english.to_csv('/Users/atrain31/Desktop/Data/dq1/apple_english.csv')\n",
    "play_english.to_csv('/Users/atrain31/Desktop/Data/dq1/play_english.csv')"
   ]
  },
  {
   "cell_type": "markdown",
   "metadata": {},
   "source": [
    "## Ratings"
   ]
  },
  {
   "cell_type": "code",
   "execution_count": 56,
   "metadata": {},
   "outputs": [
    {
     "data": {
      "text/html": [
       "\n",
       "<div class='tableauPlaceholder' id='viz1597420646361' style='position: relative'><noscript><a href='#'><img alt=' ' src='https:&#47;&#47;public.tableau.com&#47;static&#47;images&#47;Go&#47;GooglePlayAppRatingvs_Installs&#47;Sheet2&#47;1_rss.png' style='border: none' /></a></noscript><object class='tableauViz'  style='display:none;'><param name='host_url' value='https%3A%2F%2Fpublic.tableau.com%2F' /> <param name='embed_code_version' value='3' /> <param name='site_root' value='' /><param name='name' value='GooglePlayAppRatingvs_Installs&#47;Sheet2' /><param name='tabs' value='no' /><param name='toolbar' value='yes' /><param name='static_image' value='https:&#47;&#47;public.tableau.com&#47;static&#47;images&#47;Go&#47;GooglePlayAppRatingvs_Installs&#47;Sheet2&#47;1.png' /> <param name='animate_transition' value='yes' /><param name='display_static_image' value='yes' /><param name='display_spinner' value='yes' /><param name='display_overlay' value='yes' /><param name='display_count' value='yes' /><param name='language' value='en' /><param name='filter' value='publish=yes' /></object></div>                <script type='text/javascript'>                    var divElement = document.getElementById('viz1597420646361');                    var vizElement = divElement.getElementsByTagName('object')[0];                    vizElement.style.width='100%';vizElement.style.height=(divElement.offsetWidth*0.75)+'px';                    var scriptElement = document.createElement('script');                    scriptElement.src = 'https://public.tableau.com/javascripts/api/viz_v1.js';                    vizElement.parentNode.insertBefore(scriptElement, vizElement);                </script>\n"
      ],
      "text/plain": [
       "<IPython.core.display.HTML object>"
      ]
     },
     "metadata": {},
     "output_type": "display_data"
    }
   ],
   "source": [
    "%%HTML\n",
    "\n",
    "<div class='tableauPlaceholder' id='viz1597420646361' style='position: relative'><noscript><a href='#'><img alt=' ' src='https:&#47;&#47;public.tableau.com&#47;static&#47;images&#47;Go&#47;GooglePlayAppRatingvs_Installs&#47;Sheet2&#47;1_rss.png' style='border: none' /></a></noscript><object class='tableauViz'  style='display:none;'><param name='host_url' value='https%3A%2F%2Fpublic.tableau.com%2F' /> <param name='embed_code_version' value='3' /> <param name='site_root' value='' /><param name='name' value='GooglePlayAppRatingvs_Installs&#47;Sheet2' /><param name='tabs' value='no' /><param name='toolbar' value='yes' /><param name='static_image' value='https:&#47;&#47;public.tableau.com&#47;static&#47;images&#47;Go&#47;GooglePlayAppRatingvs_Installs&#47;Sheet2&#47;1.png' /> <param name='animate_transition' value='yes' /><param name='display_static_image' value='yes' /><param name='display_spinner' value='yes' /><param name='display_overlay' value='yes' /><param name='display_count' value='yes' /><param name='language' value='en' /><param name='filter' value='publish=yes' /></object></div>                <script type='text/javascript'>                    var divElement = document.getElementById('viz1597420646361');                    var vizElement = divElement.getElementsByTagName('object')[0];                    vizElement.style.width='100%';vizElement.style.height=(divElement.offsetWidth*0.75)+'px';                    var scriptElement = document.createElement('script');                    scriptElement.src = 'https://public.tableau.com/javascripts/api/viz_v1.js';                    vizElement.parentNode.insertBefore(scriptElement, vizElement);                </script>"
   ]
  },
  {
   "cell_type": "markdown",
   "metadata": {},
   "source": [
    "Conventional wisdom would point to app ratings increasing as the number of installs increases, and this chart reflects that thought.  Obviously a poorly reviewed product will decrease it's popularity.  Going forward we can assume that a well-made and well-reviewed app will translate into higher downloads. "
   ]
  },
  {
   "cell_type": "markdown",
   "metadata": {},
   "source": [
    "# Further Analysis"
   ]
  },
  {
   "cell_type": "markdown",
   "metadata": {},
   "source": [
    "Now that we have the list of apps that are both in english and free, we can really dive into some potential trends.  I'd like to check on how many reviews per category are present, so I'll create two dictionaries for each dataset: 1) the count for the number of apps for each category and 2) the number of reviews for each category.  "
   ]
  },
  {
   "cell_type": "code",
   "execution_count": 57,
   "metadata": {},
   "outputs": [],
   "source": [
    "# Google Play\n",
    "categories_two  = list(set(play_english['Category']))\n",
    "categ_inst_dict = {}\n",
    "categ_count = {}\n",
    "categ_avg_rating = {}\n",
    "\n",
    "for cat in categories_two:\n",
    "\n",
    "    new_df = play_english[play_english['Category']==cat]\n",
    "    \n",
    "    count = 0\n",
    "    count += len(new_df)\n",
    "    sum_of_installs = new_df['Reviews'].sum()\n",
    "    categ_inst_dict[cat] = sum_of_installs\n",
    "    categ_count[cat] = count\n",
    "    \n",
    "    ratings_count = 0\n",
    "    ratings_df = new_df.dropna(subset=['Rating'])\n",
    "    ratings_count = len(ratings_df)\n",
    "    categ_avg_rating[cat] = (ratings_df['Rating'].sum())/ratings_count\n",
    "\n",
    "    \n",
    "#App Store\n",
    "categories_three  = list(set(apple_english['prime_genre']))\n",
    "a_categ_inst_dict = {}\n",
    "a_categ_count = {}\n",
    "\n",
    "for cat in categories_three:\n",
    "    a_count = 0\n",
    "    a_new_df = apple_english[apple_english['prime_genre']==cat]\n",
    "    a_new_df['rating_count_tot'] = a_new_df['rating_count_tot'].astype(int)\n",
    "    a_count += len(a_new_df)\n",
    "    a_sum_of_installs = a_new_df['rating_count_tot'].sum()\n",
    "    a_categ_inst_dict[cat] = a_sum_of_installs\n",
    "    a_categ_count[cat] = a_count"
   ]
  },
  {
   "cell_type": "markdown",
   "metadata": {},
   "source": [
    "The Google data, sorted by % of Total Apps: "
   ]
  },
  {
   "cell_type": "code",
   "execution_count": 151,
   "metadata": {},
   "outputs": [
    {
     "data": {
      "text/html": [
       "<div>\n",
       "<style scoped>\n",
       "    .dataframe tbody tr th:only-of-type {\n",
       "        vertical-align: middle;\n",
       "    }\n",
       "\n",
       "    .dataframe tbody tr th {\n",
       "        vertical-align: top;\n",
       "    }\n",
       "\n",
       "    .dataframe thead th {\n",
       "        text-align: right;\n",
       "    }\n",
       "</style>\n",
       "<table border=\"1\" class=\"dataframe\">\n",
       "  <thead>\n",
       "    <tr style=\"text-align: right;\">\n",
       "      <th></th>\n",
       "      <th>Category</th>\n",
       "      <th>Count</th>\n",
       "      <th># of Reviews</th>\n",
       "      <th>Avg # Reviews Per App</th>\n",
       "      <th>% of Total Apps</th>\n",
       "    </tr>\n",
       "  </thead>\n",
       "  <tbody>\n",
       "    <tr>\n",
       "      <th>21</th>\n",
       "      <td>FAMILY</td>\n",
       "      <td>1172</td>\n",
       "      <td>81417526</td>\n",
       "      <td>69468.878840</td>\n",
       "      <td>0.194781</td>\n",
       "    </tr>\n",
       "    <tr>\n",
       "      <th>7</th>\n",
       "      <td>GAME</td>\n",
       "      <td>669</td>\n",
       "      <td>107215876</td>\n",
       "      <td>160262.893871</td>\n",
       "      <td>0.111185</td>\n",
       "    </tr>\n",
       "    <tr>\n",
       "      <th>13</th>\n",
       "      <td>TOOLS</td>\n",
       "      <td>488</td>\n",
       "      <td>26208389</td>\n",
       "      <td>53705.715164</td>\n",
       "      <td>0.081104</td>\n",
       "    </tr>\n",
       "    <tr>\n",
       "      <th>8</th>\n",
       "      <td>FINANCE</td>\n",
       "      <td>243</td>\n",
       "      <td>11631014</td>\n",
       "      <td>47864.255144</td>\n",
       "      <td>0.040386</td>\n",
       "    </tr>\n",
       "    <tr>\n",
       "      <th>6</th>\n",
       "      <td>LIFESTYLE</td>\n",
       "      <td>214</td>\n",
       "      <td>8912231</td>\n",
       "      <td>41645.939252</td>\n",
       "      <td>0.035566</td>\n",
       "    </tr>\n",
       "  </tbody>\n",
       "</table>\n",
       "</div>"
      ],
      "text/plain": [
       "     Category  Count  # of Reviews  Avg # Reviews Per App  % of Total Apps\n",
       "21     FAMILY   1172      81417526           69468.878840         0.194781\n",
       "7        GAME    669     107215876          160262.893871         0.111185\n",
       "13      TOOLS    488      26208389           53705.715164         0.081104\n",
       "8     FINANCE    243      11631014           47864.255144         0.040386\n",
       "6   LIFESTYLE    214       8912231           41645.939252         0.035566"
      ]
     },
     "execution_count": 151,
     "metadata": {},
     "output_type": "execute_result"
    }
   ],
   "source": [
    "new_play_df = pd.DataFrame(categories_two,columns=['Category'])\n",
    "new_play_df['Count'] = new_play_df['Category'].map(categ_count)\n",
    "new_play_df['# of Reviews'] = new_play_df['Category'].map(categ_inst_dict)\n",
    "new_play_df['Avg # Reviews Per App'] = (new_play_df['# of Reviews'] / new_play_df['Count'])\n",
    "new_play_df['% of Total Apps'] = (new_play_df['Count'] / new_play_df['Count'].sum())\n",
    "new_play_df.sort_values('% of Total Apps',ascending=False).head()"
   ]
  },
  {
   "cell_type": "markdown",
   "metadata": {},
   "source": [
    "The Google data, sorted by Avg # Reviews Per App: "
   ]
  },
  {
   "cell_type": "code",
   "execution_count": 150,
   "metadata": {},
   "outputs": [
    {
     "data": {
      "text/html": [
       "<div>\n",
       "<style scoped>\n",
       "    .dataframe tbody tr th:only-of-type {\n",
       "        vertical-align: middle;\n",
       "    }\n",
       "\n",
       "    .dataframe tbody tr th {\n",
       "        vertical-align: top;\n",
       "    }\n",
       "\n",
       "    .dataframe thead th {\n",
       "        text-align: right;\n",
       "    }\n",
       "</style>\n",
       "<table border=\"1\" class=\"dataframe\">\n",
       "  <thead>\n",
       "    <tr style=\"text-align: right;\">\n",
       "      <th></th>\n",
       "      <th>Category</th>\n",
       "      <th>Count</th>\n",
       "      <th># of Reviews</th>\n",
       "      <th>Avg # Reviews Per App</th>\n",
       "      <th>% of Total Apps</th>\n",
       "    </tr>\n",
       "  </thead>\n",
       "  <tbody>\n",
       "    <tr>\n",
       "      <th>7</th>\n",
       "      <td>GAME</td>\n",
       "      <td>669</td>\n",
       "      <td>107215876</td>\n",
       "      <td>160262.893871</td>\n",
       "      <td>0.111185</td>\n",
       "    </tr>\n",
       "    <tr>\n",
       "      <th>18</th>\n",
       "      <td>SOCIAL</td>\n",
       "      <td>154</td>\n",
       "      <td>17539773</td>\n",
       "      <td>113894.629870</td>\n",
       "      <td>0.025594</td>\n",
       "    </tr>\n",
       "    <tr>\n",
       "      <th>28</th>\n",
       "      <td>PHOTOGRAPHY</td>\n",
       "      <td>180</td>\n",
       "      <td>18485694</td>\n",
       "      <td>102698.300000</td>\n",
       "      <td>0.029915</td>\n",
       "    </tr>\n",
       "    <tr>\n",
       "      <th>5</th>\n",
       "      <td>ENTERTAINMENT</td>\n",
       "      <td>76</td>\n",
       "      <td>7482110</td>\n",
       "      <td>98448.815789</td>\n",
       "      <td>0.012631</td>\n",
       "    </tr>\n",
       "    <tr>\n",
       "      <th>1</th>\n",
       "      <td>COMMUNICATION</td>\n",
       "      <td>166</td>\n",
       "      <td>15789565</td>\n",
       "      <td>95117.861446</td>\n",
       "      <td>0.027588</td>\n",
       "    </tr>\n",
       "  </tbody>\n",
       "</table>\n",
       "</div>"
      ],
      "text/plain": [
       "         Category  Count  # of Reviews  Avg # Reviews Per App  % of Total Apps\n",
       "7            GAME    669     107215876          160262.893871         0.111185\n",
       "18         SOCIAL    154      17539773          113894.629870         0.025594\n",
       "28    PHOTOGRAPHY    180      18485694          102698.300000         0.029915\n",
       "5   ENTERTAINMENT     76       7482110           98448.815789         0.012631\n",
       "1   COMMUNICATION    166      15789565           95117.861446         0.027588"
      ]
     },
     "execution_count": 150,
     "metadata": {},
     "output_type": "execute_result"
    }
   ],
   "source": [
    "new_play_df.sort_values('Avg # Reviews Per App',ascending=False).head()"
   ]
  },
  {
   "cell_type": "markdown",
   "metadata": {},
   "source": [
    "The Apple Data:"
   ]
  },
  {
   "cell_type": "code",
   "execution_count": 152,
   "metadata": {},
   "outputs": [
    {
     "data": {
      "text/html": [
       "<div>\n",
       "<style scoped>\n",
       "    .dataframe tbody tr th:only-of-type {\n",
       "        vertical-align: middle;\n",
       "    }\n",
       "\n",
       "    .dataframe tbody tr th {\n",
       "        vertical-align: top;\n",
       "    }\n",
       "\n",
       "    .dataframe thead th {\n",
       "        text-align: right;\n",
       "    }\n",
       "</style>\n",
       "<table border=\"1\" class=\"dataframe\">\n",
       "  <thead>\n",
       "    <tr style=\"text-align: right;\">\n",
       "      <th></th>\n",
       "      <th>Category</th>\n",
       "      <th>Count</th>\n",
       "      <th># of Ratings</th>\n",
       "      <th>Avg # Ratings Per App</th>\n",
       "      <th>% of Total Apps</th>\n",
       "    </tr>\n",
       "  </thead>\n",
       "  <tbody>\n",
       "    <tr>\n",
       "      <th>7</th>\n",
       "      <td>Games</td>\n",
       "      <td>1274</td>\n",
       "      <td>14150897</td>\n",
       "      <td>11107.454474</td>\n",
       "      <td>0.569258</td>\n",
       "    </tr>\n",
       "    <tr>\n",
       "      <th>17</th>\n",
       "      <td>Entertainment</td>\n",
       "      <td>191</td>\n",
       "      <td>2357265</td>\n",
       "      <td>12341.701571</td>\n",
       "      <td>0.085344</td>\n",
       "    </tr>\n",
       "    <tr>\n",
       "      <th>0</th>\n",
       "      <td>Photo &amp; Video</td>\n",
       "      <td>121</td>\n",
       "      <td>1539030</td>\n",
       "      <td>12719.256198</td>\n",
       "      <td>0.054066</td>\n",
       "    </tr>\n",
       "    <tr>\n",
       "      <th>15</th>\n",
       "      <td>Social Networking</td>\n",
       "      <td>85</td>\n",
       "      <td>1432963</td>\n",
       "      <td>16858.388235</td>\n",
       "      <td>0.037980</td>\n",
       "    </tr>\n",
       "    <tr>\n",
       "      <th>4</th>\n",
       "      <td>Education</td>\n",
       "      <td>75</td>\n",
       "      <td>538759</td>\n",
       "      <td>7183.453333</td>\n",
       "      <td>0.033512</td>\n",
       "    </tr>\n",
       "  </tbody>\n",
       "</table>\n",
       "</div>"
      ],
      "text/plain": [
       "             Category  Count  # of Ratings  Avg # Ratings Per App  \\\n",
       "7               Games   1274      14150897           11107.454474   \n",
       "17      Entertainment    191       2357265           12341.701571   \n",
       "0       Photo & Video    121       1539030           12719.256198   \n",
       "15  Social Networking     85       1432963           16858.388235   \n",
       "4           Education     75        538759            7183.453333   \n",
       "\n",
       "    % of Total Apps  \n",
       "7          0.569258  \n",
       "17         0.085344  \n",
       "0          0.054066  \n",
       "15         0.037980  \n",
       "4          0.033512  "
      ]
     },
     "execution_count": 152,
     "metadata": {},
     "output_type": "execute_result"
    }
   ],
   "source": [
    "new_apple = pd.DataFrame(categories_three,columns=['Category'])\n",
    "new_apple['Count'] = new_apple['Category'].map(a_categ_count)\n",
    "new_apple['# of Ratings'] = new_apple['Category'].map(a_categ_inst_dict)\n",
    "new_apple['Avg # Ratings Per App'] = (new_apple['# of Ratings'] / new_apple['Count'])\n",
    "new_apple['% of Total Apps'] = (new_apple['Count'] / new_apple['Count'].sum())\n",
    "new_apple.sort_values('% of Total Apps',ascending=False).head()"
   ]
  },
  {
   "cell_type": "code",
   "execution_count": 153,
   "metadata": {
    "scrolled": false
   },
   "outputs": [
    {
     "data": {
      "text/html": [
       "<div>\n",
       "<style scoped>\n",
       "    .dataframe tbody tr th:only-of-type {\n",
       "        vertical-align: middle;\n",
       "    }\n",
       "\n",
       "    .dataframe tbody tr th {\n",
       "        vertical-align: top;\n",
       "    }\n",
       "\n",
       "    .dataframe thead th {\n",
       "        text-align: right;\n",
       "    }\n",
       "</style>\n",
       "<table border=\"1\" class=\"dataframe\">\n",
       "  <thead>\n",
       "    <tr style=\"text-align: right;\">\n",
       "      <th></th>\n",
       "      <th>Category</th>\n",
       "      <th>Count</th>\n",
       "      <th># of Ratings</th>\n",
       "      <th>Avg # Ratings Per App</th>\n",
       "      <th>% of Total Apps</th>\n",
       "    </tr>\n",
       "  </thead>\n",
       "  <tbody>\n",
       "    <tr>\n",
       "      <th>11</th>\n",
       "      <td>Book</td>\n",
       "      <td>8</td>\n",
       "      <td>304534</td>\n",
       "      <td>38066.750000</td>\n",
       "      <td>0.003575</td>\n",
       "    </tr>\n",
       "    <tr>\n",
       "      <th>3</th>\n",
       "      <td>Weather</td>\n",
       "      <td>10</td>\n",
       "      <td>276135</td>\n",
       "      <td>27613.500000</td>\n",
       "      <td>0.004468</td>\n",
       "    </tr>\n",
       "    <tr>\n",
       "      <th>2</th>\n",
       "      <td>Finance</td>\n",
       "      <td>22</td>\n",
       "      <td>427138</td>\n",
       "      <td>19415.363636</td>\n",
       "      <td>0.009830</td>\n",
       "    </tr>\n",
       "    <tr>\n",
       "      <th>5</th>\n",
       "      <td>Shopping</td>\n",
       "      <td>65</td>\n",
       "      <td>1180422</td>\n",
       "      <td>18160.338462</td>\n",
       "      <td>0.029044</td>\n",
       "    </tr>\n",
       "    <tr>\n",
       "      <th>16</th>\n",
       "      <td>Food &amp; Drink</td>\n",
       "      <td>17</td>\n",
       "      <td>304090</td>\n",
       "      <td>17887.647059</td>\n",
       "      <td>0.007596</td>\n",
       "    </tr>\n",
       "  </tbody>\n",
       "</table>\n",
       "</div>"
      ],
      "text/plain": [
       "        Category  Count  # of Ratings  Avg # Ratings Per App  % of Total Apps\n",
       "11          Book      8        304534           38066.750000         0.003575\n",
       "3        Weather     10        276135           27613.500000         0.004468\n",
       "2        Finance     22        427138           19415.363636         0.009830\n",
       "5       Shopping     65       1180422           18160.338462         0.029044\n",
       "16  Food & Drink     17        304090           17887.647059         0.007596"
      ]
     },
     "execution_count": 153,
     "metadata": {},
     "output_type": "execute_result"
    }
   ],
   "source": [
    "new_apple.sort_values('Avg # Ratings Per App',ascending=False).head()"
   ]
  },
  {
   "cell_type": "markdown",
   "metadata": {},
   "source": [
    "## Conclusion"
   ]
  },
  {
   "cell_type": "markdown",
   "metadata": {},
   "source": [
    "Questions and ideas to consider when developing a new app:\n",
    "\n",
    "- Filtering out the extremely popular apps gives a clearer picture of how to look at which categories perform the best on each platform.  Minus a revolutionary idea, it probably wouldn't make sense to go up against an app in one of these categories.  \n",
    "\n",
    "- Cross-checking the categories which are the most popular with the ones that have the most reviews per app (Games on Google and Social on Apple) would show that these categories would be the safer bet.  \n",
    "\n",
    "- The app development team would have to make a decision, based on app idea, as to finding an area that is not too saturated (such as Family on Google) vs an area that is popular but still has some potential (such as Books on ios).  \n",
    "- Does the app idea cost continual money to maintain? ie - a paid API to a sports betting site\n",
    "\n",
    "- Would it be possible to make an app focused on a potentially popular category based on an exisiting popular idea?  \n",
    "\n",
    "With all of these taken into consideration the data suggests that something in the Books category may prove lucrative - it is a well reviewed category but still has room for growth.  If users were able to interact in a social setting and discuss books, review/recommend books, and maybe even participate in games related to books, I think that something like this would check a lot of the boxes for the popular categories of apps without infringing on the existing apps.  Most of the data would be user-generated and new content is consistently being generated.  "
   ]
  }
 ],
 "metadata": {
  "kernelspec": {
   "display_name": "Python 3",
   "language": "python",
   "name": "python3"
  },
  "language_info": {
   "codemirror_mode": {
    "name": "ipython",
    "version": 3
   },
   "file_extension": ".py",
   "mimetype": "text/x-python",
   "name": "python",
   "nbconvert_exporter": "python",
   "pygments_lexer": "ipython3",
   "version": "3.7.3"
  }
 },
 "nbformat": 4,
 "nbformat_minor": 2
}
